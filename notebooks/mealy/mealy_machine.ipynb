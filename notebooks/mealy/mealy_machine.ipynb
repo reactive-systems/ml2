{
  "cells": [
    {
      "cell_type": "markdown",
      "metadata": {},
      "source": [
        "# Tokenizing a mealy machine from hoa using simple_hoa option"
      ]
    },
    {
      "cell_type": "code",
      "execution_count": null,
      "metadata": {},
      "outputs": [],
      "source": [
        "hoa = 'HOA: v1\\nStates: 4\\nStart: 0\\nAP: 10 \"\"o0\"\" \"\"o1\"\" \"\"o2\"\" \"\"o3\"\" \"\"o4\"\" \"\"i0\"\" \"\"i1\"\" \"\"i2\"\" \"\"i3\"\" \"\"i4\"\"\\nacc-name: all\\nAcceptance: 0 t\\nproperties: trans-labels explicit-labels state-acc deterministic\\ncontrollable-AP: 5 6 7 8 9\\n--BODY--\\nState: 0\\n[0&!1&!5&!6&!7&!8&9] 1\\n[!0&!5&!6&!7&!8&9] 2\\n[0&1&!5&!6&!7&!8&9] 3\\nState: 1\\n[0&!5&!6&!7&!8&9] 0\\n[!0&!5&!6&!7&!8&9] 3\\nState: 2\\n[!1&!5&!6&7&!8&9] 0\\n[!0&1&!5&!6&7&!8&9] 2\\n[0&1&!5&!6&7&!8&9] 3\\nState: 3\\n[0&!5&!6&!7&!8&9] 0\\n[!0&!5&!6&!7&!8&9] 3\\n--END--'"
      ]
    },
    {
      "cell_type": "code",
      "execution_count": null,
      "metadata": {},
      "outputs": [],
      "source": [
        "from ml2.mealy.mealy_machine import MealyMachine, HoaHeader\n",
        "from ml2.mealy.mealy_tokenizer import MealyToSeqTokenizer\n",
        "\n",
        "\n",
        "m = MealyMachine.from_hoa(hoa)\n",
        "tokenizer = MealyToSeqTokenizer(\n",
        "    method=\"simplified_hoa\",\n",
        "    include_body_tokens=True,\n",
        "    pad=128,\n",
        "    inputs=m.header.inputs,\n",
        "    outputs=m.header.outputs,\n",
        ")\n"
      ]
    },
    {
      "cell_type": "code",
      "execution_count": null,
      "metadata": {},
      "outputs": [],
      "source": [
        "tokens = tokenizer.encode_tokens(m)\n",
        "\"\".join(tokens)"
      ]
    },
    {
      "cell_type": "code",
      "execution_count": null,
      "metadata": {},
      "outputs": [],
      "source": [
        "m = tokenizer.decode_tokens(tokens)\n",
        "p = m.to_hoa(realizable=False)\n",
        "print(p)\n",
        "print(hoa)"
      ]
    },
    {
      "cell_type": "markdown",
      "metadata": {},
      "source": [
        "# Tokenizing a mealy machine from hoa using transitions"
      ]
    },
    {
      "cell_type": "code",
      "execution_count": null,
      "metadata": {},
      "outputs": [],
      "source": [
        "hoa = 'HOA: v1\\nStates: 2\\nStart: 0\\nAP: 10 \"i0\" \"i1\" \"i2\" \"i3\" \"i4\" \"o0\" \"o1\" \"o2\" \"o3\" \"o4\"\\nacc-name: all\\nAcceptance: 0 t\\nproperties: trans-labels explicit-labels state-acc deterministic\\ncontrollable-AP: 5 6 7 8 9\\n--BODY--\\nState: 0\\n[!2&5&6&!7&!8&9 | 2&!5&!6&!7&!8&9] 1\\nState: 1\\n[!4&!5&!6&!7&!8&9 | 4&5&!6&!7&!8&9] 1\\n--END--'"
      ]
    },
    {
      "cell_type": "code",
      "execution_count": null,
      "metadata": {},
      "outputs": [],
      "source": [
        "from ml2.mealy.mealy_machine import MealyMachine, HoaHeader\n",
        "from ml2.mealy.mealy_tokenizer import MealyToSeqTokenizer\n",
        "\n",
        "\n",
        "m = MealyMachine.from_hoa(hoa)\n",
        "tokenizer = MealyToSeqTokenizer(\n",
        "    method=\"transitions\",\n",
        "    notation=\"prefix\",\n",
        "    pad=128,\n",
        "    inputs=m.header.inputs,\n",
        "    outputs=m.header.outputs,\n",
        ")\n"
      ]
    },
    {
      "cell_type": "code",
      "execution_count": null,
      "metadata": {},
      "outputs": [],
      "source": [
        "tokens = tokenizer.encode_tokens(m)\n",
        "\"\".join(tokens)"
      ]
    },
    {
      "cell_type": "code",
      "execution_count": null,
      "metadata": {},
      "outputs": [],
      "source": [
        "m = tokenizer.decode_tokens(tokens)\n",
        "p = m.to_hoa(realizable=False)\n",
        "print(p)\n",
        "print(hoa)"
      ]
    },
    {
      "cell_type": "code",
      "execution_count": null,
      "metadata": {},
      "outputs": [],
      "source": [
        "del tokenizer"
      ]
    },
    {
      "cell_type": "markdown",
      "metadata": {},
      "source": [
        "#  Model Checking\n",
        "\n",
        "We can use spot in a container to model check mealy machines"
      ]
    },
    {
      "cell_type": "code",
      "execution_count": null,
      "metadata": {},
      "outputs": [],
      "source": [
        "from ml2.ltl.ltl_spec import DecompLTLSpec\n",
        "from ml2.datasets.utils import from_csv_str, to_csv_str\n",
        "from ml2.mealy import MealyMachine\n",
        "from ml2.tools.spot import Spot\n",
        "from ml2.ltl.ltl_syn import LTLSynStatus\n",
        "from ml2.tools.ltl_tool.tool_ltl_mc_problem import ToolLTLMCProblem, ToolLTLMCSolution\n",
        "\n",
        "fields = {\n",
        "    \"assumptions\": \"(X (G ((! (o0)) | (((! (i4)) & (! (i3))) U ((! (i4)) & (i3)))))),(G (F (i4)))\",\n",
        "    \"guarantees\": \"(G ((i0) -> (o4))),(G (((! (i1)) & (! (i0))) -> (F (((! (o0)) & (! (o2))) & (! (o1)))))),(G (F ((o2) <-> (X (o2))))),(G ((i1) -> (F (o4)))),(G ((! (o1)) | (! (o0)))),(G (((i0) & (X (i4))) -> (F ((o0) & (o1))))),(G ((o3) -> (X ((i1) R (((i1) -> (o0)) & ((! (i1)) -> (o1))))))),(G ((i2) -> (F (o0)))),(G (((o0) & (X ((! (i2)) & (! (o0))))) -> (X ((i2) R (! (o0)))))),(G ((i2) -> (o2)))\",\n",
        "    \"realizable\": 1,\n",
        "    \"hoa\": 'HOA: v1\\nStates: 2\\nStart: 0\\nAP: 10 \"\"i0\"\" \"\"i1\"\" \"\"i2\"\" \"\"i3\"\" \"\"i4\"\" \"\"o0\"\" \"\"o1\"\" \"\"o2\"\" \"\"o3\"\" \"\"o4\"\"\\nacc-name: all\\nAcceptance: 0 t\\nproperties: trans-labels explicit-labels state-acc deterministic\\ncontrollable-AP: 5 6 7 8 9\\n--BODY--\\nState: 0\\n[!2&5&6&!7&!8&9 | 2&!5&!6&!7&!8&9] 1\\nState: 1\\n[!4&!5&!6&!7&!8&9 | 4&5&!6&!7&!8&9] 1\\n--END--',\n",
        "    \"inputs\": \"i0,i1,i2,i3,i4\",\n",
        "    \"outputs\": \"o0,o1,o2,o3,o4\",\n",
        "}\n",
        "\n",
        "\n",
        "formula = DecompLTLSpec.from_csv_fields(fields)\n",
        "\n",
        "mealy = MealyMachine.from_hoa(from_csv_str(fields[\"hoa\"]))\n",
        "\n",
        "status =LTLSynStatus.from_csv_fields(fields=fields)\n",
        "\n",
        "\n",
        "verifier = Spot()\n",
        "\n",
        "verifier.model_check(ToolLTLMCProblem(parameters={}, realizable=True, specification=formula, mealy_machine=mealy)).status\n"
      ]
    },
    {
      "cell_type": "code",
      "execution_count": null,
      "metadata": {},
      "outputs": [],
      "source": [
        "del verifier"
      ]
    }
  ],
  "metadata": {
    "kernelspec": {
      "display_name": "Python 3.9.13 ('ml2')",
      "language": "python",
      "name": "python3"
    },
    "language_info": {
      "codemirror_mode": {
        "name": "ipython",
        "version": 3
      },
      "file_extension": ".py",
      "mimetype": "text/x-python",
      "name": "python",
      "nbconvert_exporter": "python",
      "pygments_lexer": "ipython3",
      "version": "3.9.18"
    },
    "orig_nbformat": 4,
    "vscode": {
      "interpreter": {
        "hash": "fa6b2b70c35a0041cee66944791317046efb000cacb71f22f98625a3ef2b1d12"
      }
    }
  },
  "nbformat": 4,
  "nbformat_minor": 2
}
