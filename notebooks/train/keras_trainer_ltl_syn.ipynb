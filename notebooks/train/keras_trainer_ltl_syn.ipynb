{
 "cells": [
  {
   "cell_type": "markdown",
   "metadata": {},
   "source": [
    "# LTL Synthesis with TensorFlow Transformer and Keras Transformer Trainer\n"
   ]
  },
  {
   "cell_type": "code",
   "execution_count": null,
   "metadata": {},
   "outputs": [],
   "source": [
    "import tensorflow as tf\n",
    "\n",
    "from ml2.datasets import CSVDataset, SplitDataset\n",
    "from ml2.ltl.ltl_spec import DecompLTLSpec, LTLSpec, LTLSpecToSeqTokenizer\n",
    "from ml2.ltl.ltl_syn import LTLSynSolution, LTLSynSolutionToSeqTokenizer\n",
    "from ml2.train import KerasTransformerTrainer\n",
    "from ml2.pipelines import TFTransformerPipeline\n"
   ]
  },
  {
   "cell_type": "markdown",
   "metadata": {},
   "source": [
    "## Create Pipeline\n"
   ]
  },
  {
   "cell_type": "markdown",
   "metadata": {},
   "source": [
    "### Create Input Tokenizer\n"
   ]
  },
  {
   "cell_type": "code",
   "execution_count": null,
   "metadata": {},
   "outputs": [],
   "source": [
    "input_tokenizer = LTLSpecToSeqTokenizer(pad=256)\n"
   ]
  },
  {
   "cell_type": "code",
   "execution_count": null,
   "metadata": {},
   "outputs": [],
   "source": [
    "spec_data = CSVDataset.load(\"scpa-2/val\", \"ltl-syn\", dtype=DecompLTLSpec)\n",
    "input_tokenizer.build_vocabulary(spec_data.generator())"
   ]
  },
  {
   "cell_type": "markdown",
   "metadata": {},
   "source": [
    "### Create Target Tokenizer\n"
   ]
  },
  {
   "cell_type": "code",
   "execution_count": null,
   "metadata": {},
   "outputs": [],
   "source": [
    "target_tokenizer = LTLSynSolutionToSeqTokenizer(eos=True, pad=128)\n"
   ]
  },
  {
   "cell_type": "code",
   "execution_count": null,
   "metadata": {},
   "outputs": [],
   "source": [
    "target_data = CSVDataset.load(\"scpa-2/val\", \"ltl-syn\", dtype=LTLSynSolution)\n",
    "target_tokenizer.build_vocabulary(target_data.generator(), add_start=True)"
   ]
  },
  {
   "cell_type": "markdown",
   "metadata": {},
   "source": [
    "### Create Pipeline\n"
   ]
  },
  {
   "cell_type": "code",
   "execution_count": null,
   "metadata": {},
   "outputs": [],
   "source": [
    "model_config = {\n",
    "    \"alpha\": 0.5,\n",
    "    \"beam_size\": 2,\n",
    "    \"custom_pos_enc\": True,\n",
    "    \"d_embed_dec\": 128,\n",
    "    \"d_embed_enc\": 128,\n",
    "    \"d_ff\": 512,\n",
    "    \"dropout\": 0.0,\n",
    "    \"dtype_float\": tf.float32,\n",
    "    \"dtype_int\": tf.int32,\n",
    "    \"ff_activation\": \"relu\",\n",
    "    \"num_heads\": 4,\n",
    "    \"num_layers_dec\": 4,\n",
    "    \"num_layers_enc\": 4,\n",
    "}\n"
   ]
  },
  {
   "cell_type": "code",
   "execution_count": null,
   "metadata": {},
   "outputs": [],
   "source": [
    "pipeline = TFTransformerPipeline(\n",
    "    name=\"t-0\",\n",
    "    project=\"ltl-syn\",\n",
    "    model_config=model_config,\n",
    "    input_tokenizer=input_tokenizer,\n",
    "    target_tokenizer=target_tokenizer,\n",
    "    max_input_length=256,\n",
    "    max_target_length=128,\n",
    ")\n"
   ]
  },
  {
   "cell_type": "markdown",
   "metadata": {},
   "source": [
    "## Create Trainer\n"
   ]
  },
  {
   "cell_type": "code",
   "execution_count": null,
   "metadata": {},
   "outputs": [],
   "source": [
    "data = SplitDataset.load(\"scpa-2\", \"ltl-syn\")"
   ]
  },
  {
   "cell_type": "code",
   "execution_count": null,
   "metadata": {},
   "outputs": [],
   "source": [
    "trainer = KerasTransformerTrainer(\n",
    "    pipeline=pipeline,\n",
    "    train_dataset=data[\"train\"],\n",
    "    val_dataset=data[\"val\"],\n",
    "    steps=10\n",
    ")"
   ]
  },
  {
   "cell_type": "code",
   "execution_count": null,
   "metadata": {},
   "outputs": [],
   "source": [
    "trainer.train()"
   ]
  }
 ],
 "metadata": {
  "interpreter": {
   "hash": "02a3c6c9a3f7fd199765eef1a13fc7f40868927109d86265acbef8b3053d7df3"
  },
  "kernelspec": {
   "display_name": "Python 3.8.13 ('ml2')",
   "language": "python",
   "name": "python3"
  },
  "language_info": {
   "codemirror_mode": {
    "name": "ipython",
    "version": 3
   },
   "file_extension": ".py",
   "mimetype": "text/x-python",
   "name": "python",
   "nbconvert_exporter": "python",
   "pygments_lexer": "ipython3",
   "version": "3.8.15"
  },
  "orig_nbformat": 4
 },
 "nbformat": 4,
 "nbformat_minor": 2
}
