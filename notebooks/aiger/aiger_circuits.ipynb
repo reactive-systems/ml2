{
 "cells": [
  {
   "cell_type": "markdown",
   "metadata": {},
   "source": [
    "# AIGER Circuits"
   ]
  },
  {
   "cell_type": "markdown",
   "metadata": {},
   "source": [
    "### From String"
   ]
  },
  {
   "cell_type": "code",
   "execution_count": null,
   "metadata": {},
   "outputs": [],
   "source": [
    "from ml2.aiger import AIGERCircuit"
   ]
  },
  {
   "cell_type": "code",
   "execution_count": null,
   "metadata": {},
   "outputs": [],
   "source": [
    "#Note the special order of inputs, ands, latches, and outputs\n",
    "circuit_str = \"2\\n4\\n6\\n8\\n10\\n17 11 15\\n10 11\\n0\\n0\\n1\\n0\\n16\""
   ]
  },
  {
   "cell_type": "code",
   "execution_count": null,
   "metadata": {},
   "outputs": [],
   "source": [
    "circuit = AIGERCircuit.from_str_without_header(circuit=circuit_str, num_inputs=5, num_outputs=5, components=['header', 'inputs', 'ands', 'latches', 'outputs'])"
   ]
  },
  {
   "cell_type": "code",
   "execution_count": null,
   "metadata": {},
   "outputs": [],
   "source": [
    "str(circuit)"
   ]
  },
  {
   "cell_type": "code",
   "execution_count": null,
   "metadata": {},
   "outputs": [],
   "source": [
    "circuit_str = \"2\\n4\\n6\\n8\\n10\\n12 7\\n0\\n0\\n1\\n0\\n16\\n14 9 6\\n16 14 12\\ni0 i0\\ni1 i1\\ni2 i2\\ni3 i3\\ni4 i4\\nl0 l0\\no0 o0\\no1 o1\\no2 o2\\no3 o3\\no4 o4\""
   ]
  },
  {
   "cell_type": "code",
   "execution_count": null,
   "metadata": {},
   "outputs": [],
   "source": [
    "circuit = AIGERCircuit.from_str_without_header(circuit=circuit_str, num_inputs=5, num_outputs=5)"
   ]
  },
  {
   "cell_type": "code",
   "execution_count": null,
   "metadata": {},
   "outputs": [],
   "source": [
    "str(circuit)"
   ]
  },
  {
   "cell_type": "markdown",
   "metadata": {},
   "source": [
    "### From CSV Fields"
   ]
  },
  {
   "cell_type": "code",
   "execution_count": null,
   "metadata": {},
   "outputs": [],
   "source": [
    "circuit = AIGERCircuit.from_csv_fields({'circuit':\"aag 9 5 1 5 3\\n2\\n4\\n6\\n8\\n10\\n12 18\\n1\\n1\\n1\\n0\\n16\\n14 13 5\\n16 15 6\\n18 15 7\\ni0 i0\\ni1 i1\\ni2 i2\\ni3 i3\\ni4 i4\\nl0 l0\\no0 o0\\no1 o1\\no2 o2\\no3 o3\\no4 o4\"})"
   ]
  },
  {
   "cell_type": "code",
   "execution_count": null,
   "metadata": {},
   "outputs": [],
   "source": [
    "circuit.header.max_var_id"
   ]
  },
  {
   "cell_type": "code",
   "execution_count": null,
   "metadata": {},
   "outputs": [],
   "source": [
    "circuit.num_ands"
   ]
  },
  {
   "cell_type": "markdown",
   "metadata": {},
   "source": [
    "## AIGER to Sequence Tokenizer"
   ]
  },
  {
   "cell_type": "code",
   "execution_count": null,
   "metadata": {},
   "outputs": [],
   "source": [
    "from ml2.aiger import AIGERToSeqTokenizer\n",
    "from ml2.tokenizers.vocabulary import Vocabulary"
   ]
  },
  {
   "cell_type": "code",
   "execution_count": null,
   "metadata": {},
   "outputs": [],
   "source": [
    "token_to_id = {\n",
    "    '<p>': 0,\n",
    "    '0': 1,\n",
    "    '1': 2,\n",
    "    '2': 3,\n",
    "    '3': 4,\n",
    "    '4': 5,\n",
    "    '5': 6,\n",
    "    '6': 7,\n",
    "    '7': 8,\n",
    "    '8': 9,\n",
    "    '9': 10,\n",
    "    '10': 11,\n",
    "    '11': 12,\n",
    "    '12': 13,\n",
    "    '13': 14,\n",
    "    '14': 15,\n",
    "    '15': 16,\n",
    "    '16': 17,\n",
    "    '17': 18,\n",
    "    '18': 19,\n",
    "    '19': 20,\n",
    "    '20': 21,\n",
    "    '21': 22,\n",
    "    '22': 23,\n",
    "    '23': 24,\n",
    "    '24': 25,\n",
    "    '25': 26,\n",
    "    '26': 27,\n",
    "    '27': 28,\n",
    "    '28': 29,\n",
    "    '29': 30,\n",
    "    '30': 31,\n",
    "    '31': 32,\n",
    "    '32': 33,\n",
    "    '33': 34,\n",
    "    '34': 35,\n",
    "    '35': 36,\n",
    "    '36': 37,\n",
    "    '37': 38,\n",
    "    '38': 39,\n",
    "    '39': 40,\n",
    "    '40': 41,\n",
    "    '<s>': 42,\n",
    "    '<e>': 43,\n",
    "    '<c>': 44,\n",
    "    '<l>': 45,\n",
    "    '<n>': 46,\n",
    "    '<r>': 47,\n",
    "    '<u>': 48\n",
    "}"
   ]
  },
  {
   "cell_type": "code",
   "execution_count": null,
   "metadata": {},
   "outputs": [],
   "source": [
    "vocab = Vocabulary(token_to_id)"
   ]
  },
  {
   "cell_type": "code",
   "execution_count": null,
   "metadata": {},
   "outputs": [],
   "source": [
    "tokenizer = AIGERToSeqTokenizer(start=True, eos=True, pad=128, components=['header', 'inputs', 'latches', 'outputs', 'ands'], inputs=['i0', 'i1', 'i2', 'i3', 'i4'], outputs=['o0', 'o1', 'o2', 'o3', 'o4'], unfold_negations=False, unfold_latches=False, vocabulary=vocab)"
   ]
  },
  {
   "cell_type": "code",
   "execution_count": null,
   "metadata": {},
   "outputs": [],
   "source": [
    "circuit = AIGERCircuit.from_str(\"aag 19 5 3 5 11\\n2\\n4\\n6\\n8\\n10\\n12 30\\n14 35\\n16 39\\n26\\n0\\n0\\n0\\n0\\n18 17 9\\n20 13 5\\n22 20 15\\n24 23 13\\n26 24 19\\n28 19 14\\n30 28 20\\n32 16 14\\n34 33 25\\n36 19 13\\n38 37 33\\ni0 i0\\ni1 i1\\ni2 i2\\ni3 i3\\ni4 i4\\nl0 l0\\nl1 l1\\nl2 l2\\no0 o0\\no1 o1\\no2 o2\\no3 o3\\no4 o4\")"
   ]
  },
  {
   "cell_type": "code",
   "execution_count": null,
   "metadata": {},
   "outputs": [],
   "source": [
    "encoding = tokenizer.encode(circuit)"
   ]
  },
  {
   "cell_type": "code",
   "execution_count": null,
   "metadata": {},
   "outputs": [],
   "source": [
    "%pprint\n",
    "encoding.tokens"
   ]
  },
  {
   "cell_type": "code",
   "execution_count": null,
   "metadata": {},
   "outputs": [],
   "source": [
    "encoding.ids"
   ]
  }
 ],
 "metadata": {
  "kernelspec": {
   "display_name": "ml2",
   "language": "python",
   "name": "python3"
  },
  "language_info": {
   "codemirror_mode": {
    "name": "ipython",
    "version": 3
   },
   "file_extension": ".py",
   "mimetype": "text/x-python",
   "name": "python",
   "nbconvert_exporter": "python",
   "pygments_lexer": "ipython3",
   "version": "3.9.18"
  },
  "orig_nbformat": 2,
  "vscode": {
   "interpreter": {
    "hash": "fa6b2b70c35a0041cee66944791317046efb000cacb71f22f98625a3ef2b1d12"
   }
  }
 },
 "nbformat": 4,
 "nbformat_minor": 2
}
