{
 "cells": [
  {
   "cell_type": "markdown",
   "metadata": {},
   "source": [
    "# AIGER Circuits\n"
   ]
  },
  {
   "cell_type": "markdown",
   "metadata": {},
   "source": [
    "## From String\n"
   ]
  },
  {
   "cell_type": "code",
   "execution_count": 1,
   "metadata": {},
   "outputs": [
    {
     "name": "stderr",
     "output_type": "stream",
     "text": [
      "INFO:datasets:PyTorch version 2.5.1 available.\n",
      "INFO:datasets:TensorFlow version 2.14.0 available.\n"
     ]
    }
   ],
   "source": [
    "from ml2.aiger import AIGERCircuit"
   ]
  },
  {
   "cell_type": "code",
   "execution_count": 2,
   "metadata": {},
   "outputs": [],
   "source": [
    "# Note the special order of inputs, ands, latches, and outputs\n",
    "circuit_str = \"2\\n4\\n6\\n8\\n10\\n17 11 15\\n10 11\\n0\\n0\\n1\\n0\\n16\""
   ]
  },
  {
   "cell_type": "code",
   "execution_count": 3,
   "metadata": {},
   "outputs": [],
   "source": [
    "circuit = AIGERCircuit.from_str_without_header(\n",
    "    circuit=circuit_str,\n",
    "    num_inputs=5,\n",
    "    num_outputs=5,\n",
    "    components=[\"header\", \"inputs\", \"ands\", \"latches\", \"outputs\"],\n",
    ")"
   ]
  },
  {
   "cell_type": "code",
   "execution_count": 4,
   "metadata": {},
   "outputs": [
    {
     "data": {
      "text/plain": [
       "'aag 8 5 1 5 1\\n2\\n4\\n6\\n8\\n10\\n10 11\\n0\\n0\\n1\\n0\\n16\\n17 11 15'"
      ]
     },
     "execution_count": 4,
     "metadata": {},
     "output_type": "execute_result"
    }
   ],
   "source": [
    "circuit.to_str()"
   ]
  },
  {
   "cell_type": "code",
   "execution_count": 5,
   "metadata": {},
   "outputs": [],
   "source": [
    "circuit_str = \"2\\n4\\n6\\n8\\n10\\n12 7\\n0\\n0\\n1\\n0\\n16\\n14 9 6\\n16 14 12\\ni0 i0\\ni1 i1\\ni2 i2\\ni3 i3\\ni4 i4\\nl0 l0\\no0 o0\\no1 o1\\no2 o2\\no3 o3\\no4 o4\""
   ]
  },
  {
   "cell_type": "code",
   "execution_count": 6,
   "metadata": {},
   "outputs": [],
   "source": [
    "circuit = AIGERCircuit.from_str_without_header(circuit=circuit_str, num_inputs=5, num_outputs=5)"
   ]
  },
  {
   "cell_type": "code",
   "execution_count": 7,
   "metadata": {},
   "outputs": [
    {
     "data": {
      "text/plain": [
       "'aag 8 5 1 5 2\\n2\\n4\\n6\\n8\\n10\\n12 7\\n0\\n0\\n1\\n0\\n16\\n14 9 6\\n16 14 12\\ni0 i0\\ni1 i1\\ni2 i2\\ni3 i3\\ni4 i4\\nl0 l0\\no0 o0\\no1 o1\\no2 o2\\no3 o3\\no4 o4'"
      ]
     },
     "execution_count": 7,
     "metadata": {},
     "output_type": "execute_result"
    }
   ],
   "source": [
    "circuit.to_str()"
   ]
  },
  {
   "cell_type": "markdown",
   "metadata": {},
   "source": [
    "## From CSV Fields\n"
   ]
  },
  {
   "cell_type": "code",
   "execution_count": 8,
   "metadata": {},
   "outputs": [],
   "source": [
    "circuit = AIGERCircuit.from_csv_fields(\n",
    "    {\n",
    "        \"circuit\": \"aag 9 5 1 5 3\\n2\\n4\\n6\\n8\\n10\\n12 18\\n1\\n1\\n1\\n0\\n16\\n14 13 5\\n16 15 6\\n18 15 7\\ni0 i0\\ni1 i1\\ni2 i2\\ni3 i3\\ni4 i4\\nl0 l0\\no0 o0\\no1 o1\\no2 o2\\no3 o3\\no4 o4\"\n",
    "    }\n",
    ")"
   ]
  },
  {
   "cell_type": "code",
   "execution_count": 9,
   "metadata": {},
   "outputs": [
    {
     "data": {
      "text/plain": [
       "9"
      ]
     },
     "execution_count": 9,
     "metadata": {},
     "output_type": "execute_result"
    }
   ],
   "source": [
    "circuit.header.max_var_id"
   ]
  },
  {
   "cell_type": "code",
   "execution_count": 10,
   "metadata": {},
   "outputs": [
    {
     "data": {
      "text/plain": [
       "3"
      ]
     },
     "execution_count": 10,
     "metadata": {},
     "output_type": "execute_result"
    }
   ],
   "source": [
    "circuit.num_ands"
   ]
  },
  {
   "cell_type": "markdown",
   "metadata": {},
   "source": [
    "## Display\n"
   ]
  },
  {
   "cell_type": "code",
   "execution_count": 11,
   "metadata": {},
   "outputs": [
    {
     "name": "stderr",
     "output_type": "stream",
     "text": [
      "WARNING:ml2.tools.grpc_service:cpu count in docker not implemented\n",
      "INFO:ml2.tools.grpc_service:ABCAiger container magical_kapitsa on port 50051 started\n",
      "INFO:ml2.tools.grpc_service:Successfully connected to ABCAiger gRPC server on port 50051\n"
     ]
    },
    {
     "data": {
      "image/svg+xml": [
       "<svg xmlns=\"http://www.w3.org/2000/svg\" xmlns:xlink=\"http://www.w3.org/1999/xlink\" width=\"897pt\" height=\"372pt\" viewBox=\"0.00 0.00 897.19 372.00\">\n",
       "<g id=\"graph0\" class=\"graph\" transform=\"scale(1 1) rotate(0) translate(4 368)\">\n",
       "<title>/tmp/aiger_input_f0396a9523e5e3aa0d4f443d7d4aad0f.aag</title>\n",
       "<polygon fill=\"white\" stroke=\"transparent\" points=\"-4,4 -4,-368 893.19,-368 893.19,4 -4,4\"/>\n",
       "<!-- 2 -->\n",
       "<g id=\"node1\" class=\"node\">\n",
       "<title>2</title>\n",
       "<polygon fill=\"none\" stroke=\"black\" points=\"66,-359 12,-359 12,-323 66,-323 66,-359\"/>\n",
       "<text text-anchor=\"middle\" x=\"39\" y=\"-337.3\" font-family=\"Times,serif\" font-size=\"14.00\">2</text>\n",
       "</g>\n",
       "<!-- I0 -->\n",
       "<g id=\"node2\" class=\"node\">\n",
       "<title>I0</title>\n",
       "<polygon fill=\"none\" stroke=\"blue\" points=\"39,-282 0,-247.5 77.99,-247.5 39,-282\"/>\n",
       "<text text-anchor=\"middle\" x=\"39\" y=\"-255.3\" font-family=\"Times,serif\" font-size=\"14.00\">i0</text>\n",
       "</g>\n",
       "<!-- 2&#45;&gt;I0 -->\n",
       "<g id=\"edge1\" class=\"edge\">\n",
       "<title>2-&gt;I0</title>\n",
       "<path fill=\"none\" stroke=\"black\" d=\"M39,-322.64C39,-310.78 39,-294.97 39,-282.2\"/>\n",
       "</g>\n",
       "<!-- 4 -->\n",
       "<g id=\"node3\" class=\"node\">\n",
       "<title>4</title>\n",
       "<polygon fill=\"none\" stroke=\"black\" points=\"223,-123 169,-123 169,-87 223,-87 223,-123\"/>\n",
       "<text text-anchor=\"middle\" x=\"196\" y=\"-101.3\" font-family=\"Times,serif\" font-size=\"14.00\">4</text>\n",
       "</g>\n",
       "<!-- I1 -->\n",
       "<g id=\"node4\" class=\"node\">\n",
       "<title>I1</title>\n",
       "<polygon fill=\"none\" stroke=\"blue\" points=\"196,-46 157,-11.5 234.99,-11.5 196,-46\"/>\n",
       "<text text-anchor=\"middle\" x=\"196\" y=\"-19.3\" font-family=\"Times,serif\" font-size=\"14.00\">i1</text>\n",
       "</g>\n",
       "<!-- 4&#45;&gt;I1 -->\n",
       "<g id=\"edge2\" class=\"edge\">\n",
       "<title>4-&gt;I1</title>\n",
       "<path fill=\"none\" stroke=\"black\" d=\"M196,-86.64C196,-74.78 196,-58.97 196,-46.2\"/>\n",
       "</g>\n",
       "<!-- 6 -->\n",
       "<g id=\"node5\" class=\"node\">\n",
       "<title>6</title>\n",
       "<polygon fill=\"none\" stroke=\"black\" points=\"155,-200 101,-200 101,-164 155,-164 155,-200\"/>\n",
       "<text text-anchor=\"middle\" x=\"128\" y=\"-178.3\" font-family=\"Times,serif\" font-size=\"14.00\">6</text>\n",
       "</g>\n",
       "<!-- I2 -->\n",
       "<g id=\"node6\" class=\"node\">\n",
       "<title>I2</title>\n",
       "<polygon fill=\"none\" stroke=\"blue\" points=\"112,-128 73,-93.5 150.99,-93.5 112,-128\"/>\n",
       "<text text-anchor=\"middle\" x=\"112\" y=\"-101.3\" font-family=\"Times,serif\" font-size=\"14.00\">i2</text>\n",
       "</g>\n",
       "<!-- 6&#45;&gt;I2 -->\n",
       "<g id=\"edge3\" class=\"edge\">\n",
       "<title>6-&gt;I2</title>\n",
       "<path fill=\"none\" stroke=\"black\" d=\"M124.37,-163.98C121.86,-152.23 118.52,-136.6 115.95,-124.53\"/>\n",
       "</g>\n",
       "<!-- 8 -->\n",
       "<g id=\"node7\" class=\"node\">\n",
       "<title>8</title>\n",
       "<polygon fill=\"none\" stroke=\"black\" points=\"369,-359 315,-359 315,-323 369,-323 369,-359\"/>\n",
       "<text text-anchor=\"middle\" x=\"342\" y=\"-337.3\" font-family=\"Times,serif\" font-size=\"14.00\">8</text>\n",
       "</g>\n",
       "<!-- I3 -->\n",
       "<g id=\"node8\" class=\"node\">\n",
       "<title>I3</title>\n",
       "<polygon fill=\"none\" stroke=\"blue\" points=\"342,-282 303,-247.5 380.99,-247.5 342,-282\"/>\n",
       "<text text-anchor=\"middle\" x=\"342\" y=\"-255.3\" font-family=\"Times,serif\" font-size=\"14.00\">i3</text>\n",
       "</g>\n",
       "<!-- 8&#45;&gt;I3 -->\n",
       "<g id=\"edge4\" class=\"edge\">\n",
       "<title>8-&gt;I3</title>\n",
       "<path fill=\"none\" stroke=\"black\" d=\"M342,-322.64C342,-310.78 342,-294.97 342,-282.2\"/>\n",
       "</g>\n",
       "<!-- 10 -->\n",
       "<g id=\"node9\" class=\"node\">\n",
       "<title>10</title>\n",
       "<polygon fill=\"none\" stroke=\"black\" points=\"465,-359 411,-359 411,-323 465,-323 465,-359\"/>\n",
       "<text text-anchor=\"middle\" x=\"438\" y=\"-337.3\" font-family=\"Times,serif\" font-size=\"14.00\">10</text>\n",
       "</g>\n",
       "<!-- I4 -->\n",
       "<g id=\"node10\" class=\"node\">\n",
       "<title>I4</title>\n",
       "<polygon fill=\"none\" stroke=\"blue\" points=\"438,-282 399,-247.5 476.99,-247.5 438,-282\"/>\n",
       "<text text-anchor=\"middle\" x=\"438\" y=\"-255.3\" font-family=\"Times,serif\" font-size=\"14.00\">i4</text>\n",
       "</g>\n",
       "<!-- 10&#45;&gt;I4 -->\n",
       "<g id=\"edge5\" class=\"edge\">\n",
       "<title>10-&gt;I4</title>\n",
       "<path fill=\"none\" stroke=\"black\" d=\"M438,-322.64C438,-310.78 438,-294.97 438,-282.2\"/>\n",
       "</g>\n",
       "<!-- 14 -->\n",
       "<g id=\"node11\" class=\"node\">\n",
       "<title>14</title>\n",
       "<ellipse fill=\"none\" stroke=\"black\" cx=\"200\" cy=\"-182\" rx=\"27\" ry=\"18\"/>\n",
       "<text text-anchor=\"middle\" x=\"200\" y=\"-178.3\" font-family=\"Times,serif\" font-size=\"14.00\">14</text>\n",
       "</g>\n",
       "<!-- 14&#45;&gt;4 -->\n",
       "<g id=\"edge7\" class=\"edge\">\n",
       "<title>14-&gt;4</title>\n",
       "<path fill=\"none\" stroke=\"black\" d=\"M199.09,-163.98C198.58,-154.36 197.92,-142.16 197.35,-131.42\"/>\n",
       "<ellipse fill=\"black\" stroke=\"black\" cx=\"197.13\" cy=\"-127.21\" rx=\"4\" ry=\"4\"/>\n",
       "</g>\n",
       "<!-- 12 -->\n",
       "<g id=\"node12\" class=\"node\">\n",
       "<title>12</title>\n",
       "<polygon fill=\"none\" stroke=\"magenta\" points=\"295,-123 241,-123 241,-87 295,-87 295,-123\"/>\n",
       "<text text-anchor=\"middle\" x=\"268\" y=\"-101.3\" font-family=\"Times,serif\" font-size=\"14.00\">12</text>\n",
       "</g>\n",
       "<!-- 14&#45;&gt;12 -->\n",
       "<g id=\"edge6\" class=\"edge\">\n",
       "<title>14-&gt;12</title>\n",
       "<path fill=\"none\" stroke=\"black\" d=\"M213.43,-166.18C222.99,-155.64 236.02,-141.27 246.95,-129.21\"/>\n",
       "<ellipse fill=\"black\" stroke=\"black\" cx=\"249.76\" cy=\"-126.11\" rx=\"4\" ry=\"4\"/>\n",
       "</g>\n",
       "<!-- 16 -->\n",
       "<g id=\"node13\" class=\"node\">\n",
       "<title>16</title>\n",
       "<ellipse fill=\"none\" stroke=\"black\" cx=\"128\" cy=\"-259\" rx=\"27\" ry=\"18\"/>\n",
       "<text text-anchor=\"middle\" x=\"128\" y=\"-255.3\" font-family=\"Times,serif\" font-size=\"14.00\">16</text>\n",
       "</g>\n",
       "<!-- 16&#45;&gt;6 -->\n",
       "<g id=\"edge9\" class=\"edge\">\n",
       "<title>16-&gt;6</title>\n",
       "<path fill=\"none\" stroke=\"black\" d=\"M128,-240.98C128,-228.79 128,-212.44 128,-200.21\"/>\n",
       "</g>\n",
       "<!-- 16&#45;&gt;14 -->\n",
       "<g id=\"edge8\" class=\"edge\">\n",
       "<title>16-&gt;14</title>\n",
       "<path fill=\"none\" stroke=\"black\" d=\"M141.88,-243.54C152.77,-232.2 168.06,-216.27 180.22,-203.6\"/>\n",
       "<ellipse fill=\"black\" stroke=\"black\" cx=\"183.14\" cy=\"-200.56\" rx=\"4\" ry=\"4\"/>\n",
       "</g>\n",
       "<!-- 18 -->\n",
       "<g id=\"node14\" class=\"node\">\n",
       "<title>18</title>\n",
       "<ellipse fill=\"none\" stroke=\"black\" cx=\"200\" cy=\"-259\" rx=\"27\" ry=\"18\"/>\n",
       "<text text-anchor=\"middle\" x=\"200\" y=\"-255.3\" font-family=\"Times,serif\" font-size=\"14.00\">18</text>\n",
       "</g>\n",
       "<!-- 18&#45;&gt;6 -->\n",
       "<g id=\"edge11\" class=\"edge\">\n",
       "<title>18-&gt;6</title>\n",
       "<path fill=\"none\" stroke=\"black\" d=\"M186.11,-243.54C175.86,-232.86 161.7,-218.1 149.92,-205.84\"/>\n",
       "<ellipse fill=\"black\" stroke=\"black\" cx=\"147.13\" cy=\"-202.93\" rx=\"4\" ry=\"4\"/>\n",
       "</g>\n",
       "<!-- 18&#45;&gt;14 -->\n",
       "<g id=\"edge10\" class=\"edge\">\n",
       "<title>18-&gt;14</title>\n",
       "<path fill=\"none\" stroke=\"black\" d=\"M200,-240.98C200,-231.36 200,-219.16 200,-208.42\"/>\n",
       "<ellipse fill=\"black\" stroke=\"black\" cx=\"200\" cy=\"-204.21\" rx=\"4\" ry=\"4\"/>\n",
       "</g>\n",
       "<!-- O0 -->\n",
       "<g id=\"node15\" class=\"node\">\n",
       "<title>O0</title>\n",
       "<polygon fill=\"none\" stroke=\"blue\" points=\"527,-364 482.6,-329.5 571.39,-329.5 527,-364\"/>\n",
       "<text text-anchor=\"middle\" x=\"527\" y=\"-337.3\" font-family=\"Times,serif\" font-size=\"14.00\">o0</text>\n",
       "</g>\n",
       "<!-- 0 -->\n",
       "<g id=\"node16\" class=\"node\">\n",
       "<title>0</title>\n",
       "<polygon fill=\"none\" stroke=\"red\" points=\"713,-277 659,-277 659,-241 713,-241 713,-277\"/>\n",
       "<text text-anchor=\"middle\" x=\"686\" y=\"-255.3\" font-family=\"Times,serif\" font-size=\"14.00\">0</text>\n",
       "</g>\n",
       "<!-- O0&#45;&gt;0 -->\n",
       "<g id=\"edge12\" class=\"edge\">\n",
       "<title>O0-&gt;0</title>\n",
       "<path fill=\"none\" stroke=\"black\" d=\"M548.11,-329.38C574.54,-316.08 620.17,-293.12 651.66,-277.28\"/>\n",
       "<ellipse fill=\"black\" stroke=\"black\" cx=\"655.37\" cy=\"-275.41\" rx=\"4\" ry=\"4\"/>\n",
       "</g>\n",
       "<!-- O1 -->\n",
       "<g id=\"node17\" class=\"node\">\n",
       "<title>O1</title>\n",
       "<polygon fill=\"none\" stroke=\"blue\" points=\"633,-364 588.6,-329.5 677.39,-329.5 633,-364\"/>\n",
       "<text text-anchor=\"middle\" x=\"633\" y=\"-337.3\" font-family=\"Times,serif\" font-size=\"14.00\">o1</text>\n",
       "</g>\n",
       "<!-- O1&#45;&gt;0 -->\n",
       "<g id=\"edge13\" class=\"edge\">\n",
       "<title>O1-&gt;0</title>\n",
       "<path fill=\"none\" stroke=\"black\" d=\"M640.14,-329.21C647.77,-317.7 660.09,-299.1 670.04,-284.08\"/>\n",
       "<ellipse fill=\"black\" stroke=\"black\" cx=\"672.5\" cy=\"-280.37\" rx=\"4\" ry=\"4\"/>\n",
       "</g>\n",
       "<!-- O2 -->\n",
       "<g id=\"node18\" class=\"node\">\n",
       "<title>O2</title>\n",
       "<polygon fill=\"none\" stroke=\"blue\" points=\"739,-364 694.6,-329.5 783.39,-329.5 739,-364\"/>\n",
       "<text text-anchor=\"middle\" x=\"739\" y=\"-337.3\" font-family=\"Times,serif\" font-size=\"14.00\">o2</text>\n",
       "</g>\n",
       "<!-- O2&#45;&gt;0 -->\n",
       "<g id=\"edge14\" class=\"edge\">\n",
       "<title>O2-&gt;0</title>\n",
       "<path fill=\"none\" stroke=\"black\" d=\"M731.85,-329.21C724.22,-317.7 711.9,-299.1 701.95,-284.08\"/>\n",
       "<ellipse fill=\"black\" stroke=\"black\" cx=\"699.49\" cy=\"-280.37\" rx=\"4\" ry=\"4\"/>\n",
       "</g>\n",
       "<!-- O3 -->\n",
       "<g id=\"node19\" class=\"node\">\n",
       "<title>O3</title>\n",
       "<polygon fill=\"none\" stroke=\"blue\" points=\"845,-364 800.6,-329.5 889.39,-329.5 845,-364\"/>\n",
       "<text text-anchor=\"middle\" x=\"845\" y=\"-337.3\" font-family=\"Times,serif\" font-size=\"14.00\">o3</text>\n",
       "</g>\n",
       "<!-- O3&#45;&gt;0 -->\n",
       "<g id=\"edge15\" class=\"edge\">\n",
       "<title>O3-&gt;0</title>\n",
       "<path fill=\"none\" stroke=\"black\" d=\"M823.88,-329.38C795.33,-315.01 744.38,-289.38 713.05,-273.61\"/>\n",
       "</g>\n",
       "<!-- O4 -->\n",
       "<g id=\"node20\" class=\"node\">\n",
       "<title>O4</title>\n",
       "<polygon fill=\"none\" stroke=\"blue\" points=\"128,-364 83.6,-329.5 172.39,-329.5 128,-364\"/>\n",
       "<text text-anchor=\"middle\" x=\"128\" y=\"-337.3\" font-family=\"Times,serif\" font-size=\"14.00\">o4</text>\n",
       "</g>\n",
       "<!-- O4&#45;&gt;16 -->\n",
       "<g id=\"edge16\" class=\"edge\">\n",
       "<title>O4-&gt;16</title>\n",
       "<path fill=\"none\" stroke=\"black\" d=\"M128,-329.21C128,-315.82 128,-292.82 128,-277.04\"/>\n",
       "</g>\n",
       "<!-- L0 -->\n",
       "<g id=\"node21\" class=\"node\">\n",
       "<title>L0</title>\n",
       "<polygon fill=\"none\" stroke=\"magenta\" points=\"250,-359 222.35,-341 250,-323 277.65,-341 250,-359\"/>\n",
       "<text text-anchor=\"middle\" x=\"250\" y=\"-337.3\" font-family=\"Times,serif\" font-size=\"14.00\">l0</text>\n",
       "</g>\n",
       "<!-- L0&#45;&gt;12 -->\n",
       "<g id=\"edge18\" class=\"edge\">\n",
       "<title>L0-&gt;12</title>\n",
       "<path fill=\"none\" stroke=\"magenta\" stroke-dasharray=\"5,2\" d=\"M251.26,-323.55C254.55,-280.79 263.34,-166.49 266.68,-123.07\"/>\n",
       "</g>\n",
       "<!-- L0&#45;&gt;18 -->\n",
       "<g id=\"edge17\" class=\"edge\">\n",
       "<title>L0-&gt;18</title>\n",
       "<path fill=\"none\" stroke=\"black\" d=\"M242.4,-327.85C233.72,-313.95 219.46,-291.14 209.91,-275.85\"/>\n",
       "</g>\n",
       "</g>\n",
       "</svg>"
      ],
      "text/plain": [
       "<IPython.core.display.SVG object>"
      ]
     },
     "metadata": {},
     "output_type": "display_data"
    },
    {
     "name": "stderr",
     "output_type": "stream",
     "text": [
      "INFO:ml2.tools.grpc_service:Stopped and removed container magical_kapitsa running ABCAiger on port 50051\n"
     ]
    }
   ],
   "source": [
    "from ml2.tools.abc_aiger import ABCAiger\n",
    "\n",
    "tool = ABCAiger()\n",
    "\n",
    "tool.display_aiger(circuit, {\"TIMEOUT\": 10})\n",
    "\n",
    "del tool"
   ]
  },
  {
   "cell_type": "markdown",
   "metadata": {},
   "source": [
    "## Simplify\n"
   ]
  },
  {
   "cell_type": "code",
   "execution_count": null,
   "metadata": {},
   "outputs": [
    {
     "name": "stderr",
     "output_type": "stream",
     "text": [
      "WARNING:ml2.tools.grpc_service:cpu count in docker not implemented\n",
      "INFO:ml2.tools.grpc_service:ABCAiger container relaxed_lederberg on port 50052 started\n",
      "INFO:ml2.tools.grpc_service:Successfully connected to ABCAiger gRPC server on port 50052\n"
     ]
    },
    {
     "data": {
      "image/svg+xml": [
       "<svg xmlns=\"http://www.w3.org/2000/svg\" xmlns:xlink=\"http://www.w3.org/1999/xlink\" width=\"182pt\" height=\"352pt\" viewBox=\"0.00 0.00 181.99 352.00\">\n",
       "<g id=\"graph0\" class=\"graph\" transform=\"scale(1 1) rotate(0) translate(4 348)\">\n",
       "<title>/tmp/aiger_input_e2ade32f38e6b514b7b15217d16add87.aag</title>\n",
       "<polygon fill=\"white\" stroke=\"transparent\" points=\"-4,4 -4,-348 177.99,-348 177.99,4 -4,4\"/>\n",
       "<!-- 2 -->\n",
       "<g id=\"node1\" class=\"node\">\n",
       "<title>2</title>\n",
       "<polygon fill=\"none\" stroke=\"black\" points=\"78,-118 24,-118 24,-82 78,-82 78,-118\"/>\n",
       "<text text-anchor=\"middle\" x=\"51\" y=\"-96.3\" font-family=\"Times,serif\" font-size=\"14.00\">2</text>\n",
       "</g>\n",
       "<!-- I0 -->\n",
       "<g id=\"node2\" class=\"node\">\n",
       "<title>I0</title>\n",
       "<polygon fill=\"none\" stroke=\"blue\" points=\"39,-46 0,-11.5 77.99,-11.5 39,-46\"/>\n",
       "<text text-anchor=\"middle\" x=\"39\" y=\"-19.3\" font-family=\"Times,serif\" font-size=\"14.00\">i0</text>\n",
       "</g>\n",
       "<!-- 2&#45;&gt;I0 -->\n",
       "<g id=\"edge1\" class=\"edge\">\n",
       "<title>2-&gt;I0</title>\n",
       "<path fill=\"none\" stroke=\"black\" d=\"M48.27,-81.98C46.43,-70.49 44,-55.28 42.09,-43.33\"/>\n",
       "</g>\n",
       "<!-- 4 -->\n",
       "<g id=\"node3\" class=\"node\">\n",
       "<title>4</title>\n",
       "<polygon fill=\"none\" stroke=\"black\" points=\"150,-118 96,-118 96,-82 150,-82 150,-118\"/>\n",
       "<text text-anchor=\"middle\" x=\"123\" y=\"-96.3\" font-family=\"Times,serif\" font-size=\"14.00\">4</text>\n",
       "</g>\n",
       "<!-- I1 -->\n",
       "<g id=\"node4\" class=\"node\">\n",
       "<title>I1</title>\n",
       "<polygon fill=\"none\" stroke=\"blue\" points=\"135,-46 96,-11.5 173.99,-11.5 135,-46\"/>\n",
       "<text text-anchor=\"middle\" x=\"135\" y=\"-19.3\" font-family=\"Times,serif\" font-size=\"14.00\">i1</text>\n",
       "</g>\n",
       "<!-- 4&#45;&gt;I1 -->\n",
       "<g id=\"edge2\" class=\"edge\">\n",
       "<title>4-&gt;I1</title>\n",
       "<path fill=\"none\" stroke=\"black\" d=\"M125.72,-81.98C127.56,-70.49 129.99,-55.28 131.9,-43.33\"/>\n",
       "</g>\n",
       "<!-- 6 -->\n",
       "<g id=\"node5\" class=\"node\">\n",
       "<title>6</title>\n",
       "<ellipse fill=\"none\" stroke=\"black\" cx=\"51\" cy=\"-172\" rx=\"27\" ry=\"18\"/>\n",
       "<text text-anchor=\"middle\" x=\"51\" y=\"-168.3\" font-family=\"Times,serif\" font-size=\"14.00\">6</text>\n",
       "</g>\n",
       "<!-- 6&#45;&gt;2 -->\n",
       "<g id=\"edge4\" class=\"edge\">\n",
       "<title>6-&gt;2</title>\n",
       "<path fill=\"none\" stroke=\"black\" d=\"M51,-153.7C51,-145.39 51,-135.28 51,-126.14\"/>\n",
       "<ellipse fill=\"black\" stroke=\"black\" cx=\"51\" cy=\"-122.1\" rx=\"4\" ry=\"4\"/>\n",
       "</g>\n",
       "<!-- 6&#45;&gt;4 -->\n",
       "<g id=\"edge3\" class=\"edge\">\n",
       "<title>6-&gt;4</title>\n",
       "<path fill=\"none\" stroke=\"black\" d=\"M65.57,-156.83C75.27,-147.4 88.25,-134.78 99.41,-123.93\"/>\n",
       "<ellipse fill=\"black\" stroke=\"black\" cx=\"102.53\" cy=\"-120.9\" rx=\"4\" ry=\"4\"/>\n",
       "</g>\n",
       "<!-- 8 -->\n",
       "<g id=\"node6\" class=\"node\">\n",
       "<title>8</title>\n",
       "<ellipse fill=\"none\" stroke=\"black\" cx=\"123\" cy=\"-172\" rx=\"27\" ry=\"18\"/>\n",
       "<text text-anchor=\"middle\" x=\"123\" y=\"-168.3\" font-family=\"Times,serif\" font-size=\"14.00\">8</text>\n",
       "</g>\n",
       "<!-- 8&#45;&gt;2 -->\n",
       "<g id=\"edge6\" class=\"edge\">\n",
       "<title>8-&gt;2</title>\n",
       "<path fill=\"none\" stroke=\"black\" d=\"M108.43,-156.83C96.92,-145.65 80.82,-130 68.6,-118.11\"/>\n",
       "</g>\n",
       "<!-- 8&#45;&gt;4 -->\n",
       "<g id=\"edge5\" class=\"edge\">\n",
       "<title>8-&gt;4</title>\n",
       "<path fill=\"none\" stroke=\"black\" d=\"M123,-153.7C123,-142.85 123,-128.92 123,-118.1\"/>\n",
       "</g>\n",
       "<!-- 10 -->\n",
       "<g id=\"node7\" class=\"node\">\n",
       "<title>10</title>\n",
       "<ellipse fill=\"none\" stroke=\"black\" cx=\"87\" cy=\"-244\" rx=\"27\" ry=\"18\"/>\n",
       "<text text-anchor=\"middle\" x=\"87\" y=\"-240.3\" font-family=\"Times,serif\" font-size=\"14.00\">10</text>\n",
       "</g>\n",
       "<!-- 10&#45;&gt;6 -->\n",
       "<g id=\"edge8\" class=\"edge\">\n",
       "<title>10-&gt;6</title>\n",
       "<path fill=\"none\" stroke=\"black\" d=\"M78.65,-226.76C72.83,-215.46 65.11,-200.44 59.3,-189.15\"/>\n",
       "</g>\n",
       "<!-- 10&#45;&gt;8 -->\n",
       "<g id=\"edge7\" class=\"edge\">\n",
       "<title>10-&gt;8</title>\n",
       "<path fill=\"none\" stroke=\"black\" d=\"M95.35,-226.76C101.16,-215.46 108.89,-200.44 114.69,-189.15\"/>\n",
       "</g>\n",
       "<!-- O0 -->\n",
       "<g id=\"node8\" class=\"node\">\n",
       "<title>O0</title>\n",
       "<polygon fill=\"none\" stroke=\"blue\" points=\"87,-344 42.6,-309.5 131.39,-309.5 87,-344\"/>\n",
       "<text text-anchor=\"middle\" x=\"87\" y=\"-317.3\" font-family=\"Times,serif\" font-size=\"14.00\">o0</text>\n",
       "</g>\n",
       "<!-- O0&#45;&gt;10 -->\n",
       "<g id=\"edge9\" class=\"edge\">\n",
       "<title>O0-&gt;10</title>\n",
       "<path fill=\"none\" stroke=\"black\" d=\"M87,-309.25C87,-296.94 87,-276.6 87,-262.1\"/>\n",
       "</g>\n",
       "</g>\n",
       "</svg>"
      ],
      "text/plain": [
       "<IPython.core.display.SVG object>"
      ]
     },
     "metadata": {},
     "output_type": "display_data"
    },
    {
     "data": {
      "image/svg+xml": [
       "<svg xmlns=\"http://www.w3.org/2000/svg\" xmlns:xlink=\"http://www.w3.org/1999/xlink\" width=\"276pt\" height=\"136pt\" viewBox=\"0.00 0.00 276.19 136.00\">\n",
       "<g id=\"graph0\" class=\"graph\" transform=\"scale(1 1) rotate(0) translate(4 132)\">\n",
       "<title>/tmp/aiger_input_92e3c2d60b7c693f5f050dfe6c285ef5.aag</title>\n",
       "<polygon fill=\"white\" stroke=\"transparent\" points=\"-4,4 -4,-132 272.19,-132 272.19,4 -4,4\"/>\n",
       "<!-- 2 -->\n",
       "<g id=\"node1\" class=\"node\">\n",
       "<title>2</title>\n",
       "<polygon fill=\"none\" stroke=\"black\" points=\"66,-123 12,-123 12,-87 66,-87 66,-123\"/>\n",
       "<text text-anchor=\"middle\" x=\"39\" y=\"-101.3\" font-family=\"Times,serif\" font-size=\"14.00\">2</text>\n",
       "</g>\n",
       "<!-- I0 -->\n",
       "<g id=\"node2\" class=\"node\">\n",
       "<title>I0</title>\n",
       "<polygon fill=\"none\" stroke=\"blue\" points=\"39,-46 0,-11.5 77.99,-11.5 39,-46\"/>\n",
       "<text text-anchor=\"middle\" x=\"39\" y=\"-19.3\" font-family=\"Times,serif\" font-size=\"14.00\">i0</text>\n",
       "</g>\n",
       "<!-- 2&#45;&gt;I0 -->\n",
       "<g id=\"edge1\" class=\"edge\">\n",
       "<title>2-&gt;I0</title>\n",
       "<path fill=\"none\" stroke=\"black\" d=\"M39,-86.64C39,-74.78 39,-58.97 39,-46.2\"/>\n",
       "</g>\n",
       "<!-- 4 -->\n",
       "<g id=\"node3\" class=\"node\">\n",
       "<title>4</title>\n",
       "<polygon fill=\"none\" stroke=\"black\" points=\"162,-123 108,-123 108,-87 162,-87 162,-123\"/>\n",
       "<text text-anchor=\"middle\" x=\"135\" y=\"-101.3\" font-family=\"Times,serif\" font-size=\"14.00\">4</text>\n",
       "</g>\n",
       "<!-- I1 -->\n",
       "<g id=\"node4\" class=\"node\">\n",
       "<title>I1</title>\n",
       "<polygon fill=\"none\" stroke=\"blue\" points=\"135,-46 96,-11.5 173.99,-11.5 135,-46\"/>\n",
       "<text text-anchor=\"middle\" x=\"135\" y=\"-19.3\" font-family=\"Times,serif\" font-size=\"14.00\">i1</text>\n",
       "</g>\n",
       "<!-- 4&#45;&gt;I1 -->\n",
       "<g id=\"edge2\" class=\"edge\">\n",
       "<title>4-&gt;I1</title>\n",
       "<path fill=\"none\" stroke=\"black\" d=\"M135,-86.64C135,-74.78 135,-58.97 135,-46.2\"/>\n",
       "</g>\n",
       "<!-- O0 -->\n",
       "<g id=\"node5\" class=\"node\">\n",
       "<title>O0</title>\n",
       "<polygon fill=\"none\" stroke=\"blue\" points=\"224,-128 179.6,-93.5 268.39,-93.5 224,-128\"/>\n",
       "<text text-anchor=\"middle\" x=\"224\" y=\"-101.3\" font-family=\"Times,serif\" font-size=\"14.00\">o0</text>\n",
       "</g>\n",
       "<!-- 0 -->\n",
       "<g id=\"node6\" class=\"node\">\n",
       "<title>0</title>\n",
       "<polygon fill=\"none\" stroke=\"red\" points=\"251,-41 197,-41 197,-5 251,-5 251,-41\"/>\n",
       "<text text-anchor=\"middle\" x=\"224\" y=\"-19.3\" font-family=\"Times,serif\" font-size=\"14.00\">0</text>\n",
       "</g>\n",
       "<!-- O0&#45;&gt;0 -->\n",
       "<g id=\"edge3\" class=\"edge\">\n",
       "<title>O0-&gt;0</title>\n",
       "<path fill=\"none\" stroke=\"black\" d=\"M224,-93.21C224,-79.82 224,-56.82 224,-41.04\"/>\n",
       "</g>\n",
       "</g>\n",
       "</svg>"
      ],
      "text/plain": [
       "<IPython.core.display.SVG object>"
      ]
     },
     "metadata": {},
     "output_type": "display_data"
    }
   ],
   "source": [
    "from ml2.tools.abc_aiger import ABCAiger\n",
    "\n",
    "tool = ABCAiger()\n",
    "\n",
    "circuit = AIGERCircuit.from_str(\n",
    "    \"aag 5 2 0 1 3\\n2\\n4\\n10\\n6 5 3\\n8 4 2\\n10 8 6\\ni0 i0\\ni1 i1\\no0 o0\"\n",
    ")\n",
    "\n",
    "circuits, _, _, _ = tool.aiger_simplify(circuit, {\"TIMEOUT\": 10})\n",
    "\n",
    "tool.display_aiger(circuit, {\"TIMEOUT\": 10})\n",
    "tool.display_aiger(circuits[-1], {\"TIMEOUT\": 10})\n",
    "\n",
    "del tool"
   ]
  },
  {
   "cell_type": "markdown",
   "metadata": {},
   "source": [
    "## AIGER to Sequence Tokenizer\n"
   ]
  },
  {
   "cell_type": "code",
   "execution_count": null,
   "metadata": {},
   "outputs": [],
   "source": [
    "from ml2.aiger import AIGERToSeqTokenizer\n",
    "from ml2.tokenizers.vocabulary import Vocabulary"
   ]
  },
  {
   "cell_type": "code",
   "execution_count": null,
   "metadata": {},
   "outputs": [],
   "source": [
    "token_to_id = {\n",
    "    \"<p>\": 0,\n",
    "    \"0\": 1,\n",
    "    \"1\": 2,\n",
    "    \"2\": 3,\n",
    "    \"3\": 4,\n",
    "    \"4\": 5,\n",
    "    \"5\": 6,\n",
    "    \"6\": 7,\n",
    "    \"7\": 8,\n",
    "    \"8\": 9,\n",
    "    \"9\": 10,\n",
    "    \"10\": 11,\n",
    "    \"11\": 12,\n",
    "    \"12\": 13,\n",
    "    \"13\": 14,\n",
    "    \"14\": 15,\n",
    "    \"15\": 16,\n",
    "    \"16\": 17,\n",
    "    \"17\": 18,\n",
    "    \"18\": 19,\n",
    "    \"19\": 20,\n",
    "    \"20\": 21,\n",
    "    \"21\": 22,\n",
    "    \"22\": 23,\n",
    "    \"23\": 24,\n",
    "    \"24\": 25,\n",
    "    \"25\": 26,\n",
    "    \"26\": 27,\n",
    "    \"27\": 28,\n",
    "    \"28\": 29,\n",
    "    \"29\": 30,\n",
    "    \"30\": 31,\n",
    "    \"31\": 32,\n",
    "    \"32\": 33,\n",
    "    \"33\": 34,\n",
    "    \"34\": 35,\n",
    "    \"35\": 36,\n",
    "    \"36\": 37,\n",
    "    \"37\": 38,\n",
    "    \"38\": 39,\n",
    "    \"39\": 40,\n",
    "    \"40\": 41,\n",
    "    \"<s>\": 42,\n",
    "    \"<e>\": 43,\n",
    "    \"<c>\": 44,\n",
    "    \"<l>\": 45,\n",
    "    \"<n>\": 46,\n",
    "    \"<r>\": 47,\n",
    "    \"<u>\": 48,\n",
    "}"
   ]
  },
  {
   "cell_type": "code",
   "execution_count": null,
   "metadata": {},
   "outputs": [],
   "source": [
    "vocab = Vocabulary(token_to_id)"
   ]
  },
  {
   "cell_type": "code",
   "execution_count": null,
   "metadata": {},
   "outputs": [],
   "source": [
    "tokenizer = AIGERToSeqTokenizer(\n",
    "    start=True,\n",
    "    eos=True,\n",
    "    pad=128,\n",
    "    components=[\"header\", \"inputs\", \"latches\", \"outputs\", \"ands\"],\n",
    "    inputs=[\"i0\", \"i1\", \"i2\", \"i3\", \"i4\"],\n",
    "    outputs=[\"o0\", \"o1\", \"o2\", \"o3\", \"o4\"],\n",
    "    unfold_negations=False,\n",
    "    unfold_latches=False,\n",
    "    vocabulary=vocab,\n",
    ")"
   ]
  },
  {
   "cell_type": "code",
   "execution_count": null,
   "metadata": {},
   "outputs": [],
   "source": [
    "circuit = AIGERCircuit.from_str(\n",
    "    \"aag 19 5 3 5 11\\n2\\n4\\n6\\n8\\n10\\n12 30\\n14 35\\n16 39\\n26\\n0\\n0\\n0\\n0\\n18 17 9\\n20 13 5\\n22 20 15\\n24 23 13\\n26 24 19\\n28 19 14\\n30 28 20\\n32 16 14\\n34 33 25\\n36 19 13\\n38 37 33\\ni0 i0\\ni1 i1\\ni2 i2\\ni3 i3\\ni4 i4\\nl0 l0\\nl1 l1\\nl2 l2\\no0 o0\\no1 o1\\no2 o2\\no3 o3\\no4 o4\"\n",
    ")"
   ]
  },
  {
   "cell_type": "code",
   "execution_count": null,
   "metadata": {},
   "outputs": [],
   "source": [
    "encoding = tokenizer.encode(circuit)"
   ]
  },
  {
   "cell_type": "code",
   "execution_count": null,
   "metadata": {},
   "outputs": [],
   "source": [
    "%pprint\n",
    "encoding.tokens"
   ]
  },
  {
   "cell_type": "code",
   "execution_count": null,
   "metadata": {},
   "outputs": [],
   "source": [
    "encoding.ids"
   ]
  }
 ],
 "metadata": {
  "kernelspec": {
   "display_name": "ml2",
   "language": "python",
   "name": "python3"
  },
  "language_info": {
   "codemirror_mode": {
    "name": "ipython",
    "version": 3
   },
   "file_extension": ".py",
   "mimetype": "text/x-python",
   "name": "python",
   "nbconvert_exporter": "python",
   "pygments_lexer": "ipython3",
   "version": "3.11.11"
  },
  "orig_nbformat": 2,
  "vscode": {
   "interpreter": {
    "hash": "fa6b2b70c35a0041cee66944791317046efb000cacb71f22f98625a3ef2b1d12"
   }
  }
 },
 "nbformat": 4,
 "nbformat_minor": 2
}
