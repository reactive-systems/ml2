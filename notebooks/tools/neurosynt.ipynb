{
 "cells": [
  {
   "cell_type": "code",
   "execution_count": null,
   "metadata": {},
   "outputs": [],
   "source": [
    "from ml2.tools.nuxmv import NuxmvMC\n",
    "from ml2.tools.spot import SpotAIGERMC\n",
    "\n",
    "model_checker = SpotAIGERMC()"
   ]
  },
  {
   "cell_type": "code",
   "execution_count": null,
   "metadata": {},
   "outputs": [],
   "source": [
    "from ml2.tools.neurosynt import NeuroSynt\n",
    "\n",
    "neurosynt = NeuroSynt(\n",
    "    mc_port=model_checker.port,\n",
    "    verifier=model_checker.__class__.__name__,\n",
    "    nvidia_gpus=False,\n",
    "    start_containerized_service=False,\n",
    "    start_service=True,\n",
    "    port=50072,\n",
    "    setup_parameters={\n",
    "        \"batch_size\": 1,\n",
    "        \"alpha\": 0.5,\n",
    "        \"num_properties\": 12,\n",
    "        \"length_properties\": 30,\n",
    "        \"beam_size\": 8,\n",
    "        \"check_setup\": True,\n",
    "        \"model\": \"ht-50\",\n",
    "    },\n",
    ")"
   ]
  },
  {
   "cell_type": "code",
   "execution_count": null,
   "metadata": {},
   "outputs": [],
   "source": [
    "from ml2.ltl.ltl_spec.decomp_ltl_spec import DecompLTLSpec\n",
    "from ml2.tools.ltl_tool.tool_ltl_syn_problem import ToolLTLSynProblem, ToolLTLSynSolution, ToolNeuralLTLSynSolution\n",
    "\n",
    "\n",
    "real_spec = DecompLTLSpec.from_dict(\n",
    "        {\n",
    "            \"assumptions\": [\"G F ! r1\"],\n",
    "            \"guarantees\": [\"G (r1 -> X (! g2 U g1))\", \"G (r2 -> F g2)\", \"G ! (g1 & g2)\"],\n",
    "            \"inputs\": [\"r1\", \"r2\"],\n",
    "            \"outputs\": [\"g1\", \"g2\"],\n",
    "        }\n",
    "    )\n",
    "sol: ToolNeuralLTLSynSolution = neurosynt.synthesize(\n",
    "    ToolLTLSynProblem(\n",
    "        parameters={\"timeout\": 120, \"allow_unsound\": True}, specification=real_spec, system_format=\"aiger\"\n",
    "    )\n",
    ")"
   ]
  },
  {
   "cell_type": "code",
   "execution_count": null,
   "metadata": {},
   "outputs": [],
   "source": [
    "from ml2.ltl.ltl_spec.decomp_ltl_spec import DecompLTLSpec\n",
    "from ml2.tools.ltl_tool.tool_ltl_syn_problem import (\n",
    "    ToolLTLSynProblem,\n",
    "    ToolLTLSynSolution,\n",
    "    ToolNeuralLTLSynSolution,\n",
    ")\n",
    "\n",
    "\n",
    "real_spec = DecompLTLSpec.from_dict(\n",
    "    {\n",
    "        \"inputs\": [\"r_0\",\"r_1\"],\n",
    "        \"outputs\": [\"g_0\",\"g_1\"],\n",
    "        \"assumptions\": [],\n",
    "        \"guarantees\": [\"(G ((! (g_0)) | (! (g_1))))\",\"(G ((r_0) -> (F (g_0))))\",\"(G ((r_1) -> (F (g_1))))\"],\n",
    "    }\n",
    ")\n",
    "sol: ToolNeuralLTLSynSolution = neurosynt.synthesize(\n",
    "    ToolLTLSynProblem(\n",
    "        parameters={\"timeout\": 120, \"allow_unsound\": True},\n",
    "        specification=real_spec,\n",
    "        system_format=\"aiger\",\n",
    "    )\n",
    ")"
   ]
  },
  {
   "cell_type": "code",
   "execution_count": null,
   "metadata": {},
   "outputs": [],
   "source": [
    "sol.synthesis_solution.detailed_status"
   ]
  },
  {
   "cell_type": "code",
   "execution_count": null,
   "metadata": {},
   "outputs": [],
   "source": []
  },
  {
   "cell_type": "code",
   "execution_count": null,
   "metadata": {},
   "outputs": [],
   "source": []
  }
 ],
 "metadata": {
  "kernelspec": {
   "display_name": "ml2",
   "language": "python",
   "name": "python3"
  },
  "language_info": {
   "codemirror_mode": {
    "name": "ipython",
    "version": 3
   },
   "file_extension": ".py",
   "mimetype": "text/x-python",
   "name": "python",
   "nbconvert_exporter": "python",
   "pygments_lexer": "ipython3",
   "version": "3.8.15"
  },
  "orig_nbformat": 4
 },
 "nbformat": 4,
 "nbformat_minor": 2
}
