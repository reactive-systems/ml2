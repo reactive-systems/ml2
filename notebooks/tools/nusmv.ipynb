{
 "cells": [
  {
   "cell_type": "markdown",
   "metadata": {},
   "source": [
    "# NuSMV\n"
   ]
  },
  {
   "cell_type": "code",
   "execution_count": null,
   "metadata": {},
   "outputs": [],
   "source": [
    "from ml2.aiger import AIGERCircuit\n",
    "from ml2.ltl import DecompLTLSpec, LTLSpec\n",
    "from ml2.tools.nusmv import NuSMV\n",
    "from ml2.tools.ltl_tool import ToolLTLMCProblem"
   ]
  },
  {
   "cell_type": "code",
   "execution_count": null,
   "metadata": {},
   "outputs": [],
   "source": [
    "nusmv = NuSMV()"
   ]
  },
  {
   "cell_type": "markdown",
   "metadata": {},
   "source": [
    "Construct decomposed or regular LTL specification from dictionary"
   ]
  },
  {
   "cell_type": "code",
   "execution_count": null,
   "metadata": {},
   "outputs": [],
   "source": [
    "decomp_spec_dict = {\n",
    "    \"guarantees\": [\"G ( i0 -> ( F o0 ) )\", \"G ( i1 -> ( F o1 ) )\", \"G ! (o0 & o1)\"],\n",
    "    \"inputs\": [\"i0\", \"i1\", \"i2\", \"i3\", \"i4\"],\n",
    "    \"outputs\": [\"o0\", \"o1\", \"o2\", \"o3\", \"o4\"],\n",
    "}"
   ]
  },
  {
   "cell_type": "code",
   "execution_count": null,
   "metadata": {},
   "outputs": [],
   "source": [
    "spec = DecompLTLSpec.from_dict(decomp_spec_dict)"
   ]
  },
  {
   "cell_type": "code",
   "execution_count": null,
   "metadata": {},
   "outputs": [],
   "source": [
    "spec_dict = {\n",
    "    \"formula\": \"( G ( i0 -> ( F o0 ) ) ) & ( G ( i1 -> ( F o1 ) ) ) & ( G ! (o0 & o1) )\",\n",
    "    \"inputs\": [\"i0\", \"i1\", \"i2\", \"i3\", \"i4\"],\n",
    "    \"outputs\": [\"o0\", \"o1\", \"o2\", \"o3\", \"o4\"],\n",
    "}"
   ]
  },
  {
   "cell_type": "code",
   "execution_count": null,
   "metadata": {},
   "outputs": [],
   "source": [
    "spec = LTLSpec.from_dict(spec_dict)"
   ]
  },
  {
   "cell_type": "markdown",
   "metadata": {},
   "source": [
    "Construct AIGER circuit from string"
   ]
  },
  {
   "cell_type": "code",
   "execution_count": null,
   "metadata": {},
   "outputs": [],
   "source": [
    "circuit = AIGERCircuit.from_str(\n",
    "    circuit=\"aag 6 5 1 5 0\\n2\\n4\\n6\\n8\\n10\\n12 11\\n13\\n12\\n0\\n0\\n0\\ni0 i0\\ni1 i1\\ni2 i2\\ni3 i3\\ni4 i4\\nl0 l0\\no0 o0\\no1 o1\\no2 o2\\no3 o3\\no4 o4\"\n",
    ")"
   ]
  },
  {
   "cell_type": "markdown",
   "metadata": {},
   "source": [
    "Model checking call (should be violated)"
   ]
  },
  {
   "cell_type": "code",
   "execution_count": null,
   "metadata": {},
   "outputs": [],
   "source": [
    "nusmv.model_check(\n",
    "    ToolLTLMCProblem(parameters={}, realizable=True, specification=spec, circuit=circuit)\n",
    ").status"
   ]
  },
  {
   "cell_type": "code",
   "execution_count": null,
   "metadata": {},
   "outputs": [],
   "source": [
    "del nusmv"
   ]
  }
 ],
 "metadata": {
  "kernelspec": {
   "display_name": "ml2",
   "language": "python",
   "name": "python3"
  },
  "language_info": {
   "codemirror_mode": {
    "name": "ipython",
    "version": 3
   },
   "file_extension": ".py",
   "mimetype": "text/x-python",
   "name": "python",
   "nbconvert_exporter": "python",
   "pygments_lexer": "ipython3",
   "version": "3.9.18"
  },
  "orig_nbformat": 2,
  "vscode": {
   "interpreter": {
    "hash": "fa6b2b70c35a0041cee66944791317046efb000cacb71f22f98625a3ef2b1d12"
   }
  }
 },
 "nbformat": 4,
 "nbformat_minor": 2
}
