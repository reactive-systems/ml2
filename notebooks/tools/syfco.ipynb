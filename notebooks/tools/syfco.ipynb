{
 "cells": [
  {
   "cell_type": "markdown",
   "metadata": {},
   "source": [
    "# Syfco"
   ]
  },
  {
   "cell_type": "code",
   "execution_count": null,
   "metadata": {},
   "outputs": [],
   "source": [
    "from ml2.tools.syfco import Syfco"
   ]
  },
  {
   "cell_type": "code",
   "execution_count": null,
   "metadata": {},
   "outputs": [],
   "source": [
    "file_str = 'INFO {\\n  TITLE:       \"Converted TSL Specification: ActionConverter\"\\n  DESCRIPTION: \"TSL specification, which has been converted to TLSF.\"\\n  SEMANTICS:   Mealy\\n  TARGET:      Mealy\\n}\\nMAIN {\\n  INPUTS {\\n    p0p0iscockpitmode0gamemode;\\n    p0p0isscoremode0gamemode;\\n    p0p0gt0accz0f1dresetthreshhold1b;\\n    p0p0gt0f1dabs0accz1b0f1dshotthreshhold1b;\\n    p0p0norotation0gyrox0gyroy0gyroz;\\n  }\\n\\n  OUTPUTS {\\n    u0gamestart0gamestart;\\n    u0gamestart0f1dbot1b;\\n    u0gamestart0f1dtop1b;\\n    u0shot0shot;\\n    u0shot0f1dbot1b;\\n    u0shot0f1dtop1b;\\n  }\\n\\n  GUARANTEE {\\n    (G ((! (((u0gamestart0f1dbot1b) && (! ((u0gamestart0f1dtop1b) || (u0gamestart0gamestart)))) <-> ((! (((u0gamestart0f1dtop1b) && (! (u0gamestart0gamestart))) <-> ((u0gamestart0gamestart) && (! (u0gamestart0f1dtop1b))))) && (! (u0gamestart0f1dbot1b))))) && (! (((u0shot0f1dbot1b) && (! ((u0shot0f1dtop1b) || (u0shot0shot)))) <-> ((! (((u0shot0f1dtop1b) && (! (u0shot0shot))) <-> ((u0shot0shot) && (! (u0shot0f1dtop1b))))) && (! (u0shot0f1dbot1b))))))) && ((((G ((u0gamestart0f1dtop1b) || (u0gamestart0f1dbot1b))) && (G ((u0shot0f1dtop1b) || (u0shot0f1dbot1b)))) && (G ((((p0p0isscoremode0gamemode) && (p0p0gt0accz0f1dresetthreshhold1b)) && (p0p0norotation0gyrox0gyroy0gyroz)) <-> (u0gamestart0f1dtop1b)))) && (G ((((p0p0iscockpitmode0gamemode) && (p0p0gt0f1dabs0accz1b0f1dshotthreshhold1b)) && (p0p0norotation0gyrox0gyroy0gyroz)) <-> (u0shot0f1dtop1b))));\\n  }\\n}\\n'"
   ]
  },
  {
   "cell_type": "code",
   "execution_count": null,
   "metadata": {},
   "outputs": [],
   "source": [
    "syfco = Syfco()"
   ]
  },
  {
   "cell_type": "code",
   "execution_count": null,
   "metadata": {},
   "outputs": [],
   "source": [
    "r = syfco.from_tlsf_str(file_str)"
   ]
  },
  {
   "cell_type": "code",
   "execution_count": null,
   "metadata": {},
   "outputs": [],
   "source": [
    "from ml2.ltl.ltl_spec import DecompLTLSpec\n",
    "\n",
    "DecompLTLSpec.from_csv_fields({'inputs': 'p0p0norotation0gyrox0gyroy0gyroz,p0p0gt0f1dabs0accz1b0f1dshotthreshhold1b,p0p0gt0accz0f1dresetthreshhold1b,p0p0isscoremode0gamemode,p0p0iscockpitmode0gamemode',\n",
    " 'outputs': 'u0shot0f1dtop1b,u0shot0f1dbot1b,u0shot0shot,u0gamestart0f1dtop1b,u0gamestart0f1dbot1b,u0gamestart0gamestart',\n",
    " 'assumptions': '',\n",
    " 'guarantees': '(G (((((u0gamestart0f1dbot1b) & (! (u0gamestart0f1dtop1b))) & (! (u0gamestart0gamestart))) <-> ((((u0gamestart0f1dtop1b) & (! (u0gamestart0gamestart))) <-> ((u0gamestart0gamestart) & (! (u0gamestart0f1dtop1b)))) | (u0gamestart0f1dbot1b))) & ((((u0shot0f1dbot1b) & (! (u0shot0f1dtop1b))) & (! (u0shot0shot))) <-> ((((u0shot0f1dtop1b) & (! (u0shot0shot))) <-> ((u0shot0shot) & (! (u0shot0f1dtop1b)))) | (u0shot0f1dbot1b))))),(G ((u0gamestart0f1dtop1b) | (u0gamestart0f1dbot1b))),(G ((u0shot0f1dtop1b) | (u0shot0f1dbot1b))),(G ((((p0p0isscoremode0gamemode) & (p0p0gt0accz0f1dresetthreshhold1b)) & (p0p0norotation0gyrox0gyroy0gyroz)) <-> (u0gamestart0f1dtop1b))),(G ((((p0p0iscockpitmode0gamemode) & (p0p0gt0f1dabs0accz1b0f1dshotthreshhold1b)) & (p0p0norotation0gyrox0gyroy0gyroz)) <-> (u0shot0f1dtop1b)))',\n",
    " 'id_DecompLTLSpec': '261a8113f41b8cc98c7b13280073bbbc8a2bf226abdf3a54fa535837'}) == r"
   ]
  },
  {
   "cell_type": "code",
   "execution_count": null,
   "metadata": {},
   "outputs": [],
   "source": [
    "r.to_csv_fields()"
   ]
  },
  {
   "cell_type": "code",
   "execution_count": null,
   "metadata": {},
   "outputs": [],
   "source": [
    "r: DecompLTLSpec = syfco.from_tlsf_file('/Users/matthias/ml2-refactor/ltl-spec/sc-0/ActionConverter.tlsf')"
   ]
  },
  {
   "cell_type": "code",
   "execution_count": null,
   "metadata": {},
   "outputs": [],
   "source": [
    "r.to_csv_fields()"
   ]
  }
 ],
 "metadata": {
  "kernelspec": {
   "display_name": "Python 3.9.13 ('ml2')",
   "language": "python",
   "name": "python3"
  },
  "language_info": {
   "codemirror_mode": {
    "name": "ipython",
    "version": 3
   },
   "file_extension": ".py",
   "mimetype": "text/x-python",
   "name": "python",
   "nbconvert_exporter": "python",
   "pygments_lexer": "ipython3",
   "version": "3.8.15"
  },
  "orig_nbformat": 4,
  "vscode": {
   "interpreter": {
    "hash": "fa6b2b70c35a0041cee66944791317046efb000cacb71f22f98625a3ef2b1d12"
   }
  }
 },
 "nbformat": 4,
 "nbformat_minor": 2
}
