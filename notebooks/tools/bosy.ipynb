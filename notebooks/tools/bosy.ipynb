{
 "cells": [
  {
   "cell_type": "markdown",
   "metadata": {},
   "source": [
    "# BoSy"
   ]
  },
  {
   "cell_type": "code",
   "execution_count": null,
   "metadata": {},
   "outputs": [],
   "source": [
    "from ml2.ltl import DecompLTLSpec\n",
    "from ml2.tools.bosy import BoSy\n",
    "from ml2.tools.ltl_tool import ToolLTLSynProblem"
   ]
  },
  {
   "cell_type": "code",
   "execution_count": null,
   "metadata": {},
   "outputs": [],
   "source": [
    "bosy = BoSy()"
   ]
  },
  {
   "cell_type": "code",
   "execution_count": null,
   "metadata": {},
   "outputs": [],
   "source": [
    "spec_dict = {\n",
    "    \"guarantees\": [\n",
    "        \"(G ((((! (g_0)) && (! (g_1))) && ((! (g_2)) || (! (g_3)))) || ((((! (g_0)) || (! (g_1))) && (! (g_2))) && (! (g_3)))))\",\n",
    "        \"(G ((r_0) -> (F (g_0))))\",\n",
    "        \"(G ((r_1) -> (F (g_1))))\",\n",
    "        \"(G ((r_2) -> (F (g_2))))\",\n",
    "        \"(G ((r_3) -> (F (g_3))))\"\n",
    "      ],\n",
    "      \"inputs\": [\n",
    "        \"r_0\",\n",
    "        \"r_1\",\n",
    "        \"r_2\",\n",
    "        \"r_3\",\n",
    "        \"r_4\"\n",
    "      ],\n",
    "      \"outputs\": [\n",
    "        \"g_0\",\n",
    "        \"g_1\",\n",
    "        \"g_2\",\n",
    "        \"g_3\",\n",
    "        \"g_4\"\n",
    "      ],\n",
    "}"
   ]
  },
  {
   "cell_type": "code",
   "execution_count": null,
   "metadata": {},
   "outputs": [],
   "source": [
    "spec = DecompLTLSpec.from_dict(spec_dict)"
   ]
  },
  {
   "cell_type": "code",
   "execution_count": null,
   "metadata": {},
   "outputs": [],
   "source": [
    "str(bosy.synthesize(ToolLTLSynProblem(parameters={}, specification=spec)).circuit)"
   ]
  },
  {
   "cell_type": "code",
   "execution_count": null,
   "metadata": {},
   "outputs": [],
   "source": [
    "del bosy"
   ]
  }
 ],
 "metadata": {
  "kernelspec": {
   "display_name": "ml2",
   "language": "python",
   "name": "python3"
  },
  "language_info": {
   "codemirror_mode": {
    "name": "ipython",
    "version": 3
   },
   "file_extension": ".py",
   "mimetype": "text/x-python",
   "name": "python",
   "nbconvert_exporter": "python",
   "pygments_lexer": "ipython3",
   "version": "3.9.18"
  },
  "orig_nbformat": 2,
  "vscode": {
   "interpreter": {
    "hash": "fa6b2b70c35a0041cee66944791317046efb000cacb71f22f98625a3ef2b1d12"
   }
  }
 },
 "nbformat": 4,
 "nbformat_minor": 2
}
