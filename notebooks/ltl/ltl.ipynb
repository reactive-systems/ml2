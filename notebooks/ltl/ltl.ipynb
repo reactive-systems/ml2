{
  "cells": [
    {
      "cell_type": "markdown",
      "metadata": {},
      "source": [
        "# Linear-time Temporal Logic (LTL)"
      ]
    },
    {
      "cell_type": "markdown",
      "metadata": {},
      "source": [
        "## LTL Lexer"
      ]
    },
    {
      "cell_type": "code",
      "execution_count": null,
      "metadata": {},
      "outputs": [],
      "source": [
        "from ml2.ltl import lex_ltl"
      ]
    },
    {
      "cell_type": "code",
      "execution_count": null,
      "metadata": {},
      "outputs": [],
      "source": [
        "lex_ltl('a U X b')"
      ]
    },
    {
      "cell_type": "markdown",
      "metadata": {},
      "source": [
        "## LTL Parser"
      ]
    },
    {
      "cell_type": "code",
      "execution_count": null,
      "metadata": {},
      "outputs": [],
      "source": [
        "from ml2.ltl import parse_ltl"
      ]
    },
    {
      "cell_type": "code",
      "execution_count": null,
      "metadata": {},
      "outputs": [],
      "source": [
        "parse_ltl('X a R b')"
      ]
    },
    {
      "cell_type": "markdown",
      "metadata": {},
      "source": [
        "## LTL Formula"
      ]
    },
    {
      "cell_type": "code",
      "execution_count": null,
      "metadata": {},
      "outputs": [],
      "source": [
        "from ml2.ltl import LTLFormula"
      ]
    },
    {
      "cell_type": "code",
      "execution_count": null,
      "metadata": {},
      "outputs": [],
      "source": [
        "formula = LTLFormula.from_str('a U G b', \"infix\")"
      ]
    },
    {
      "cell_type": "code",
      "execution_count": null,
      "metadata": {},
      "outputs": [],
      "source": [
        "formula.ast"
      ]
    },
    {
      "cell_type": "markdown",
      "metadata": {},
      "source": [
        "## LTL Specification"
      ]
    },
    {
      "cell_type": "code",
      "execution_count": null,
      "metadata": {},
      "outputs": [],
      "source": [
        "from ml2.ltl import LTLSpec"
      ]
    },
    {
      "cell_type": "code",
      "execution_count": null,
      "metadata": {},
      "outputs": [],
      "source": [
        "spec_dict = {\n",
        "    \"formula\": \"(G i0) & (i1) -> G ! (o0 & o1) & (G ((i0) -> (F (o0)))) & (G ((i1) -> (F (o1))))\",\n",
        "    \"inputs\": [\n",
        "      \"i0\",\n",
        "      \"i1\"\n",
        "    ],\n",
        "    \"outputs\": [\n",
        "      \"o0\",\n",
        "      \"o1\"\n",
        "    ],\n",
        "}"
      ]
    },
    {
      "cell_type": "code",
      "execution_count": null,
      "metadata": {},
      "outputs": [],
      "source": [
        "spec = LTLSpec.from_dict(spec_dict)"
      ]
    },
    {
      "cell_type": "code",
      "execution_count": null,
      "metadata": {},
      "outputs": [],
      "source": [
        "spec.inputs"
      ]
    },
    {
      "cell_type": "code",
      "execution_count": null,
      "metadata": {},
      "outputs": [],
      "source": [
        "spec.outputs"
      ]
    },
    {
      "cell_type": "code",
      "execution_count": null,
      "metadata": {},
      "outputs": [],
      "source": [
        "spec.ast"
      ]
    },
    {
      "cell_type": "markdown",
      "metadata": {},
      "source": [
        "### LTL Specification Tokenization"
      ]
    },
    {
      "cell_type": "code",
      "execution_count": null,
      "metadata": {},
      "outputs": [],
      "source": [
        "from ml2.dtypes import TPEFormat\n",
        "from ml2.tokenizers import ExprToSeqTPETokenizer, Vocabulary"
      ]
    },
    {
      "cell_type": "code",
      "execution_count": null,
      "metadata": {},
      "outputs": [],
      "source": [
        "vocab = Vocabulary.from_iterable(['<p>', 'i0', 'i1', 'o0', 'o1', 'G', 'F', '&', '!', '->', '<e>', '<s>'])"
      ]
    },
    {
      "cell_type": "code",
      "execution_count": null,
      "metadata": {},
      "outputs": [],
      "source": [
        "spec_tokenizer = ExprToSeqTPETokenizer(dtype=LTLSpec, notation=\"prefix\", start=True, eos=True, pad=64, tpe_format=TPEFormat.BRANCHDOWN, vocabulary=vocab)"
      ]
    },
    {
      "cell_type": "code",
      "execution_count": null,
      "metadata": {},
      "outputs": [],
      "source": [
        "encoding =  spec_tokenizer.encode(spec)"
      ]
    },
    {
      "cell_type": "code",
      "execution_count": null,
      "metadata": {},
      "outputs": [],
      "source": [
        "encoding.tokens"
      ]
    },
    {
      "cell_type": "code",
      "execution_count": null,
      "metadata": {},
      "outputs": [],
      "source": [
        "encoding.pad_tokens"
      ]
    },
    {
      "cell_type": "code",
      "execution_count": null,
      "metadata": {},
      "outputs": [],
      "source": [
        "encoding.ids"
      ]
    },
    {
      "cell_type": "markdown",
      "metadata": {},
      "source": [
        "## LTL Guarantees"
      ]
    },
    {
      "cell_type": "code",
      "execution_count": null,
      "metadata": {},
      "outputs": [],
      "source": [
        "from ml2.ltl import LTLGuarantees"
      ]
    },
    {
      "cell_type": "code",
      "execution_count": null,
      "metadata": {},
      "outputs": [],
      "source": [
        "ltl_guarantees_dict = {\n",
        "    \"guarantees\": [\n",
        "        \"G ! (o0 & o1)\",\n",
        "        \"(G ((i0) -> (F (o0))))\",\n",
        "        \"(G ((i1) -> (F (o1))))\"\n",
        "      ],\n",
        "      \"inputs\": [\n",
        "        \"i0\",\n",
        "        \"i1\"\n",
        "      ],\n",
        "      \"outputs\": [\n",
        "        \"o0\",\n",
        "        \"o1\"\n",
        "      ],\n",
        "}"
      ]
    },
    {
      "cell_type": "code",
      "execution_count": null,
      "metadata": {},
      "outputs": [],
      "source": [
        "ltl_guarantees = LTLGuarantees.from_dict(ltl_guarantees_dict)"
      ]
    },
    {
      "cell_type": "code",
      "execution_count": null,
      "metadata": {},
      "outputs": [],
      "source": [
        "ltl_guarantees.num_inputs"
      ]
    },
    {
      "cell_type": "code",
      "execution_count": null,
      "metadata": {},
      "outputs": [],
      "source": [
        "ltl_guarantees.num_outputs"
      ]
    },
    {
      "cell_type": "markdown",
      "metadata": {},
      "source": [
        "## Decomposed LTL Specification"
      ]
    },
    {
      "cell_type": "code",
      "execution_count": null,
      "metadata": {},
      "outputs": [],
      "source": [
        "from ml2.ltl import DecompLTLSpec"
      ]
    },
    {
      "cell_type": "code",
      "execution_count": null,
      "metadata": {},
      "outputs": [],
      "source": [
        "decomp_spec_dict = {\n",
        "    \"assumptions\": [\n",
        "      \"G i0\",\n",
        "      \"i0 & i1\"\n",
        "    ],\n",
        "    \"guarantees\": [\n",
        "        \"G ! (o0 & o1)\",\n",
        "        \"(G ((i0) -> (F (o0))))\",\n",
        "        \"(G ((i1) -> (F (o1))))\"\n",
        "      ],\n",
        "      \"inputs\": [\n",
        "        \"i0\",\n",
        "        \"i1\"\n",
        "      ],\n",
        "      \"outputs\": [\n",
        "        \"o0\",\n",
        "        \"o1\"\n",
        "      ],\n",
        "}"
      ]
    },
    {
      "cell_type": "code",
      "execution_count": null,
      "metadata": {},
      "outputs": [],
      "source": [
        "decomp_spec = DecompLTLSpec.from_dict(decomp_spec_dict)"
      ]
    },
    {
      "cell_type": "code",
      "execution_count": null,
      "metadata": {},
      "outputs": [],
      "source": [
        "decomp_spec.inputs"
      ]
    },
    {
      "cell_type": "code",
      "execution_count": null,
      "metadata": {},
      "outputs": [],
      "source": [
        "decomp_spec.outputs"
      ]
    },
    {
      "cell_type": "code",
      "execution_count": null,
      "metadata": {},
      "outputs": [],
      "source": [
        "decomp_spec.to_str()"
      ]
    }
  ],
  "metadata": {
    "kernelspec": {
      "display_name": "Python 3.8.12 64-bit ('ml2')",
      "language": "python",
      "name": "python3"
    },
    "language_info": {
      "codemirror_mode": {
        "name": "ipython",
        "version": 3
      },
      "file_extension": ".py",
      "mimetype": "text/x-python",
      "name": "python",
      "nbconvert_exporter": "python",
      "pygments_lexer": "ipython3",
      "version": "3.9.18"
    },
    "orig_nbformat": 2,
    "vscode": {
      "interpreter": {
        "hash": "a142c9c21721142bd797377cddfc1c796fe902a53b9b843fc44c955c014dd320"
      }
    }
  },
  "nbformat": 4,
  "nbformat_minor": 2
}
