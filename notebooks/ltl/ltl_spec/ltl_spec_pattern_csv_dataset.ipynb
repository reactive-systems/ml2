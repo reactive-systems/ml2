{
    "cells": [
        {
            "cell_type": "markdown",
            "metadata": {},
            "source": [
                "# LTL Specification Pattern CSV Dataset"
            ]
        },
        {
            "cell_type": "code",
            "execution_count": null,
            "metadata": {},
            "outputs": [],
            "source": [
                "import ml2\n",
                "\n",
                "from ml2.ltl.ltl_spec import LTLSpecDataset\n",
                "from ml2.ltl.ltl_spec.ltl_spec_pattern_csv_dataset import LTLSpecPatternCSVDataset\n",
                "from ml2.ltl.ltl_spec.ltl_spec_csv_dataset import LTLSpecCSVDataset"
            ]
        },
        {
            "attachments": {},
            "cell_type": "markdown",
            "metadata": {},
            "source": [
                "## Load dataset\n"
            ]
        },
        {
            "cell_type": "code",
            "execution_count": null,
            "metadata": {},
            "outputs": [],
            "source": [
                "pattern_dataset: LTLSpecPatternCSVDataset = LTLSpecPatternCSVDataset.load(name=\"scp-1\", project=\"ltl-spec\")  # type: ignore"
            ]
        },
        {
            "cell_type": "code",
            "execution_count": null,
            "metadata": {},
            "outputs": [],
            "source": [
                "assumptions: LTLSpecCSVDataset = pattern_dataset[\"assumptions\"]\n",
                "assumptions.df"
            ]
        },
        {
            "cell_type": "code",
            "execution_count": null,
            "metadata": {},
            "outputs": [],
            "source": [
                "guarantees: LTLSpecCSVDataset = pattern_dataset[\"guarantees\"]\n",
                "guarantees.df"
            ]
        },
        {
            "attachments": {},
            "cell_type": "markdown",
            "metadata": {},
            "source": [
                "## Filter dataset\n"
            ]
        },
        {
            "cell_type": "code",
            "execution_count": null,
            "metadata": {},
            "outputs": [],
            "source": [
                "new_pattern_dataset = pattern_dataset.filter(ast_size=(None, 2), inplace=False)"
            ]
        },
        {
            "cell_type": "code",
            "execution_count": null,
            "metadata": {},
            "outputs": [],
            "source": [
                "new_pattern_dataset[\"assumptions\"].df"
            ]
        },
        {
            "attachments": {},
            "cell_type": "markdown",
            "metadata": {},
            "source": [
                "## Rename while getting sample from dataset"
            ]
        },
        {
            "cell_type": "code",
            "execution_count": null,
            "metadata": {},
            "outputs": [],
            "source": [
                "sample = next(pattern_dataset.generator(\n",
                "    splits=[\"guarantees\"], rename_random=True, random_weighted={\"i0\": 1000}\n",
                "))"
            ]
        },
        {
            "cell_type": "code",
            "execution_count": null,
            "metadata": {},
            "outputs": [],
            "source": [
                "sample.to_csv_fields()"
            ]
        },
        {
            "attachments": {},
            "cell_type": "markdown",
            "metadata": {},
            "source": [
                "## Create a pattern dataset from a benchmark\n"
            ]
        },
        {
            "cell_type": "code",
            "execution_count": null,
            "metadata": {},
            "outputs": [],
            "source": [
                "benchmark_dataset: LTLSpecDataset = ml2.load(\"ltl-spec/sc-1\")  # type: ignore"
            ]
        },
        {
            "cell_type": "code",
            "execution_count": null,
            "metadata": {},
            "outputs": [],
            "source": [
                "pattern_dataset = LTLSpecPatternCSVDataset.from_ltl_spec_data(\n",
                "    benchmark_dataset, name=\"scp-1\", project=\"test\"\n",
                ")"
            ]
        },
        {
            "cell_type": "code",
            "execution_count": null,
            "metadata": {},
            "outputs": [],
            "source": [
                "pattern_dataset.save(overwrite_local=False)"
            ]
        }
    ],
    "metadata": {
        "kernelspec": {
            "display_name": "Python 3.9.13 ('ml2')",
            "language": "python",
            "name": "python3"
        },
        "language_info": {
            "codemirror_mode": {
                "name": "ipython",
                "version": 3
            },
            "file_extension": ".py",
            "mimetype": "text/x-python",
            "name": "python",
            "nbconvert_exporter": "python",
            "pygments_lexer": "ipython3",
            "version": "3.8.15"
        },
        "orig_nbformat": 4,
        "vscode": {
            "interpreter": {
                "hash": "fa6b2b70c35a0041cee66944791317046efb000cacb71f22f98625a3ef2b1d12"
            }
        }
    },
    "nbformat": 4,
    "nbformat_minor": 2
}
