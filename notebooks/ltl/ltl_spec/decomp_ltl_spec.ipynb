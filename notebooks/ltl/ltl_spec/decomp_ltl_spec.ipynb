{
  "cells": [
    {
      "cell_type": "markdown",
      "metadata": {},
      "source": [
        "# Decomposed LTL Specification"
      ]
    },
    {
      "cell_type": "code",
      "execution_count": null,
      "metadata": {},
      "outputs": [],
      "source": [
        "from ml2.ltl.ltl_spec import DecompLTLSpec, LTLAssumptions, LTLGuarantees"
      ]
    },
    {
      "cell_type": "markdown",
      "metadata": {},
      "source": [
        "## LTL Assumptions"
      ]
    },
    {
      "cell_type": "markdown",
      "metadata": {},
      "source": [
        "### From CSV Fields"
      ]
    },
    {
      "cell_type": "code",
      "execution_count": null,
      "metadata": {},
      "outputs": [],
      "source": [
        "a0 = LTLAssumptions.from_csv_fields({'assumptions': 'F a1,F a2', 'inputs': 'a1,a2', 'outputs':'o1'})"
      ]
    },
    {
      "cell_type": "code",
      "execution_count": null,
      "metadata": {},
      "outputs": [],
      "source": [
        "a0.to_str(\"prefix\")"
      ]
    },
    {
      "cell_type": "code",
      "execution_count": null,
      "metadata": {},
      "outputs": [],
      "source": [
        "a0.to_csv_fields()"
      ]
    },
    {
      "cell_type": "code",
      "execution_count": null,
      "metadata": {},
      "outputs": [],
      "source": [
        "type(a0)"
      ]
    },
    {
      "cell_type": "markdown",
      "metadata": {},
      "source": [
        "### From Token Lists"
      ]
    },
    {
      "cell_type": "code",
      "execution_count": null,
      "metadata": {},
      "outputs": [],
      "source": [
        "a1 = LTLAssumptions.from_token_lists([['F', 'a1'],['F', 'b1']], inputs=['a1'])"
      ]
    },
    {
      "cell_type": "code",
      "execution_count": null,
      "metadata": {},
      "outputs": [],
      "source": [
        "a1.inputs"
      ]
    },
    {
      "cell_type": "markdown",
      "metadata": {},
      "source": [
        "## LTL Guarantees"
      ]
    },
    {
      "cell_type": "markdown",
      "metadata": {},
      "source": [
        "### From CSV Fields"
      ]
    },
    {
      "cell_type": "code",
      "execution_count": null,
      "metadata": {},
      "outputs": [],
      "source": [
        "g0 = LTLGuarantees.from_csv_fields({'guarantees': 'G o, G i', 'inputs': 'i', 'outputs': 'o'})"
      ]
    },
    {
      "cell_type": "code",
      "execution_count": null,
      "metadata": {},
      "outputs": [],
      "source": [
        "g0.size()"
      ]
    },
    {
      "cell_type": "markdown",
      "metadata": {},
      "source": [
        "### From Token Lists"
      ]
    },
    {
      "cell_type": "code",
      "execution_count": null,
      "metadata": {},
      "outputs": [],
      "source": [
        "g1 = LTLGuarantees.from_token_lists([['i1', '->' 'F', 'o1'],['F', 'o2']], inputs=['i1'], outputs=['o1', 'o2'])"
      ]
    },
    {
      "cell_type": "code",
      "execution_count": null,
      "metadata": {},
      "outputs": [],
      "source": [
        "g1.to_str()"
      ]
    },
    {
      "cell_type": "code",
      "execution_count": null,
      "metadata": {},
      "outputs": [],
      "source": [
        "g1.to_csv_fields()"
      ]
    },
    {
      "cell_type": "markdown",
      "metadata": {},
      "source": [
        "## Decomp LTL Spec"
      ]
    },
    {
      "cell_type": "markdown",
      "metadata": {},
      "source": [
        "## From CSV Fields"
      ]
    },
    {
      "cell_type": "code",
      "execution_count": null,
      "metadata": {},
      "outputs": [],
      "source": [
        "s = DecompLTLSpec.from_csv_fields({'inputs': 'i0', 'outputs': 'o0', 'guarantees': 'i0 U o0', 'assumptions': 'F i0, F G i0'})"
      ]
    },
    {
      "cell_type": "code",
      "execution_count": null,
      "metadata": {},
      "outputs": [],
      "source": [
        "s.guarantees.sub_exprs[0]._notation"
      ]
    },
    {
      "cell_type": "code",
      "execution_count": null,
      "metadata": {},
      "outputs": [],
      "source": [
        "s.to_str()"
      ]
    },
    {
      "cell_type": "code",
      "execution_count": null,
      "metadata": {},
      "outputs": [],
      "source": [
        "s.to_csv_fields()"
      ]
    },
    {
      "cell_type": "markdown",
      "metadata": {},
      "source": [
        "## Decomp LTL Spec Tokenizer"
      ]
    },
    {
      "cell_type": "code",
      "execution_count": null,
      "metadata": {},
      "outputs": [],
      "source": [
        "from ml2.ltl.ltl_spec import DecompLTLSpecToSeqTPETokenizer, LTLSpecToSeqTPETokenizer"
      ]
    },
    {
      "cell_type": "code",
      "execution_count": null,
      "metadata": {},
      "outputs": [],
      "source": [
        "prop_tokenizer = LTLSpecToSeqTPETokenizer(\n",
        "    pad=16,\n",
        "    pos_pad=32,\n",
        "    notation=\"prefix\"\n",
        ")"
      ]
    },
    {
      "cell_type": "code",
      "execution_count": null,
      "metadata": {},
      "outputs": [],
      "source": [
        "tokenizer = DecompLTLSpecToSeqTPETokenizer(num_props=10, prop_tokenizer=prop_tokenizer)"
      ]
    },
    {
      "cell_type": "code",
      "execution_count": null,
      "metadata": {},
      "outputs": [],
      "source": [
        "from ml2.datasets import load_dataset\n",
        "\n",
        "data = load_dataset('ltl-syn/scpa-2/val')\n",
        "data.dtype = DecompLTLSpec\n",
        "tokenizer.build_vocabulary(data)"
      ]
    },
    {
      "cell_type": "code",
      "execution_count": null,
      "metadata": {},
      "outputs": [],
      "source": [
        "enc = tokenizer.encode(s)"
      ]
    },
    {
      "cell_type": "code",
      "execution_count": null,
      "metadata": {},
      "outputs": [],
      "source": [
        "for seq_enc in enc.seq_pos_encs:\n",
        "    print(seq_enc.pad_tokens)"
      ]
    }
  ],
  "metadata": {
    "kernelspec": {
      "display_name": "Python 3.9.13 ('ml2')",
      "language": "python",
      "name": "python3"
    },
    "language_info": {
      "codemirror_mode": {
        "name": "ipython",
        "version": 3
      },
      "file_extension": ".py",
      "mimetype": "text/x-python",
      "name": "python",
      "nbconvert_exporter": "python",
      "pygments_lexer": "ipython3",
      "version": "3.8.15"
    },
    "orig_nbformat": 4,
    "vscode": {
      "interpreter": {
        "hash": "fa6b2b70c35a0041cee66944791317046efb000cacb71f22f98625a3ef2b1d12"
      }
    }
  },
  "nbformat": 4,
  "nbformat_minor": 2
}
