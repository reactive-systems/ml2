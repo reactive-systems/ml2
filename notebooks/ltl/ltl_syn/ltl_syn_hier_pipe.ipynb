{
  "cells": [
    {
      "cell_type": "markdown",
      "metadata": {},
      "source": [
        "# LTL Synthesis Hierarchical Transformer Pipeline"
      ]
    },
    {
      "cell_type": "code",
      "execution_count": null,
      "metadata": {},
      "outputs": [],
      "source": [
        "from ml2.pipelines import TFHierTransformerPipeline"
      ]
    },
    {
      "cell_type": "code",
      "execution_count": null,
      "metadata": {},
      "outputs": [],
      "source": [
        "pipe = TFHierTransformerPipeline.load(\"ht-12/train/pipe\", project=\"ltl-syn\")"
      ]
    },
    {
      "cell_type": "code",
      "execution_count": null,
      "metadata": {},
      "outputs": [],
      "source": [
        "from ml2.ltl.ltl_spec import DecompLTLSpec, LTLAssumptions, LTLGuarantees"
      ]
    },
    {
      "cell_type": "code",
      "execution_count": null,
      "metadata": {},
      "outputs": [],
      "source": [
        "spec = DecompLTLSpec.from_csv_fields({'inputs': 'i0', 'outputs': 'o0', 'guarantees': 'true', 'assumptions': ''})"
      ]
    },
    {
      "cell_type": "code",
      "execution_count": null,
      "metadata": {},
      "outputs": [],
      "source": [
        "sol = pipe(spec, training=False)\n",
        "sol"
      ]
    },
    {
      "cell_type": "code",
      "execution_count": null,
      "metadata": {},
      "outputs": [],
      "source": [
        "from ml2.tools.spot import SpotAIGERMC"
      ]
    },
    {
      "cell_type": "code",
      "execution_count": null,
      "metadata": {},
      "outputs": [],
      "source": [
        "spot = SpotAIGERMC()"
      ]
    },
    {
      "cell_type": "code",
      "execution_count": null,
      "metadata": {},
      "outputs": [],
      "source": [
        "spot.verify(spec, sol.circuit, sol.status.realizable)"
      ]
    }
  ],
  "metadata": {
    "kernelspec": {
      "display_name": "ml2",
      "language": "python",
      "name": "python3"
    },
    "language_info": {
      "codemirror_mode": {
        "name": "ipython",
        "version": 3
      },
      "file_extension": ".py",
      "mimetype": "text/x-python",
      "name": "python",
      "nbconvert_exporter": "python",
      "pygments_lexer": "ipython3",
      "version": "3.9.18"
    },
    "metadata": {
      "interpreter": {
        "hash": "6777b983a30343457facb6d641fab749a3d1ac686971770ba4e1636635b77c7f"
      }
    },
    "orig_nbformat": 2,
    "vscode": {
      "interpreter": {
        "hash": "fa6b2b70c35a0041cee66944791317046efb000cacb71f22f98625a3ef2b1d12"
      }
    }
  },
  "nbformat": 4,
  "nbformat_minor": 2
}
