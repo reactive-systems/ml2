{
 "cells": [
  {
   "cell_type": "markdown",
   "metadata": {},
   "source": [
    "# Tensorflow Transformer Pipeline with LTL Synthesis Data"
   ]
  },
  {
   "cell_type": "code",
   "execution_count": null,
   "metadata": {},
   "outputs": [],
   "source": [
    "import tensorflow as tf\n",
    "\n",
    "from ml2.aiger import AIGERCircuit, AIGERToSeqTokenizer\n",
    "from ml2.datasets import CSVDataset\n",
    "from ml2.ltl import DecompLTLSpec, LTLSpec\n",
    "from ml2.ltl.ltl_spec import LTLSpecToSeqTokenizer\n",
    "from ml2.pipelines import TFTransformerPipeline\n",
    "from ml2.pipelines.tf_transformer_pipeline import TFTransformerConfig"
   ]
  },
  {
   "cell_type": "markdown",
   "metadata": {},
   "source": [
    "## Tokenizer"
   ]
  },
  {
   "cell_type": "markdown",
   "metadata": {},
   "source": [
    "### Input Tokenizer"
   ]
  },
  {
   "cell_type": "code",
   "execution_count": null,
   "metadata": {},
   "outputs": [],
   "source": [
    "input_tokenizer = LTLSpecToSeqTokenizer(pad=64)"
   ]
  },
  {
   "cell_type": "code",
   "execution_count": null,
   "metadata": {},
   "outputs": [],
   "source": [
    "spec_data = CSVDataset.load('scpa-2/val', 'ltl-syn', dtype=DecompLTLSpec)\n",
    "input_tokenizer.build_vocabulary(spec_data.generator())\n"
   ]
  },
  {
   "cell_type": "markdown",
   "metadata": {},
   "source": [
    "### Target Tokenizer"
   ]
  },
  {
   "cell_type": "code",
   "execution_count": null,
   "metadata": {},
   "outputs": [],
   "source": [
    "target_tokenizer = AIGERToSeqTokenizer(eos=True, pad=64)"
   ]
  },
  {
   "cell_type": "code",
   "execution_count": null,
   "metadata": {},
   "outputs": [],
   "source": [
    "circuit_data = CSVDataset.load('scpa-2/val', 'ltl-syn', dtype=AIGERCircuit)\n",
    "target_tokenizer.build_vocabulary(circuit_data.generator(), add_start=True)"
   ]
  },
  {
   "cell_type": "markdown",
   "metadata": {},
   "source": [
    "## Pipeline"
   ]
  },
  {
   "cell_type": "code",
   "execution_count": null,
   "metadata": {},
   "outputs": [],
   "source": [
    "model_config = TFTransformerConfig(\n",
    "  alpha=0.5,\n",
    "  beam_size=2,\n",
    "  d_embed_dec=128,\n",
    "  d_embed_enc=128,\n",
    "  d_ff=512,\n",
    "  dropout=0.0,\n",
    "  dtype_float=tf.float32,\n",
    "  dtype_int=tf.int32,\n",
    "  ff_activation=\"relu\",\n",
    "  num_heads=4,\n",
    "  num_layers_dec=4,\n",
    "  num_layers_enc=4,\n",
    ")"
   ]
  },
  {
   "cell_type": "code",
   "execution_count": null,
   "metadata": {},
   "outputs": [],
   "source": [
    "pipe = TFTransformerPipeline(\n",
    "    name='tf-transformer-pipe-0',\n",
    "    model_config=model_config,\n",
    "    project='ltl-syn',\n",
    "    input_tokenizer=input_tokenizer,\n",
    "    target_tokenizer=target_tokenizer,\n",
    "    max_input_length=64,\n",
    "    max_target_length=64,\n",
    ")"
   ]
  },
  {
   "cell_type": "code",
   "execution_count": null,
   "metadata": {},
   "outputs": [],
   "source": [
    "spec = LTLSpec.from_dict({'formula': 'G (i0 -> F o0)', 'inputs': ['i0'], 'outputs': ['o0']})"
   ]
  },
  {
   "cell_type": "code",
   "execution_count": null,
   "metadata": {},
   "outputs": [],
   "source": [
    "pipe.eval_sample(spec)"
   ]
  }
 ],
 "metadata": {
  "kernelspec": {
   "display_name": "Python 3.9.13 ('ml2')",
   "language": "python",
   "name": "python3"
  },
  "language_info": {
   "codemirror_mode": {
    "name": "ipython",
    "version": 3
   },
   "file_extension": ".py",
   "mimetype": "text/x-python",
   "name": "python",
   "nbconvert_exporter": "python",
   "pygments_lexer": "ipython3",
   "version": "3.8.15"
  },
  "orig_nbformat": 4,
  "vscode": {
   "interpreter": {
    "hash": "fa6b2b70c35a0041cee66944791317046efb000cacb71f22f98625a3ef2b1d12"
   }
  }
 },
 "nbformat": 4,
 "nbformat_minor": 2
}
