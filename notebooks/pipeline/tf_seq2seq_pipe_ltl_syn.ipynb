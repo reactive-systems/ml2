{
 "cells": [
  {
   "cell_type": "markdown",
   "metadata": {},
   "source": [
    "# TensorFlow Sequence to Sequence Pipeline with LTL Synthesis Data"
   ]
  },
  {
   "cell_type": "code",
   "execution_count": null,
   "metadata": {},
   "outputs": [],
   "source": [
    "import ml2\n",
    "\n",
    "from ml2.ltl.ltl_spec import DecompLTLSpec, LTLSpec, LTLSpecToSeqTokenizer\n",
    "from ml2.ltl.ltl_syn import LTLSynSolution, LTLSynSolutionToSeqTokenizer\n",
    "from ml2.pipelines import TFSLPipeline"
   ]
  },
  {
   "cell_type": "markdown",
   "metadata": {},
   "source": [
    "## Tokenizer"
   ]
  },
  {
   "cell_type": "markdown",
   "metadata": {},
   "source": [
    "### Input Tokenizer"
   ]
  },
  {
   "cell_type": "code",
   "execution_count": null,
   "metadata": {},
   "outputs": [],
   "source": [
    "input_tokenizer = LTLSpecToSeqTokenizer(pad=256)"
   ]
  },
  {
   "cell_type": "code",
   "execution_count": null,
   "metadata": {},
   "outputs": [],
   "source": [
    "spec_data = ml2.load('ltl-syn/scpa-2/val', dtype=DecompLTLSpec)\n",
    "input_tokenizer.build_vocabulary(spec_data.generator())"
   ]
  },
  {
   "cell_type": "markdown",
   "metadata": {},
   "source": [
    "### Target Tokenizer"
   ]
  },
  {
   "cell_type": "code",
   "execution_count": null,
   "metadata": {},
   "outputs": [],
   "source": [
    "target_tokenizer = LTLSynSolutionToSeqTokenizer(eos=True, pad=128)"
   ]
  },
  {
   "cell_type": "code",
   "execution_count": null,
   "metadata": {},
   "outputs": [],
   "source": [
    "target_data = ml2.load('ltl-syn/scpa-2/val', dtype=LTLSynSolution)\n",
    "target_tokenizer.build_vocabulary(target_data.generator())"
   ]
  },
  {
   "cell_type": "markdown",
   "metadata": {},
   "source": [
    "## Pipeline"
   ]
  },
  {
   "cell_type": "code",
   "execution_count": null,
   "metadata": {},
   "outputs": [],
   "source": [
    "pipeline = TFSLPipeline(name='tf-seq2seq-pipe-0', model_config={}, input_tokenizer=input_tokenizer, target_tokenizer=target_tokenizer)"
   ]
  },
  {
   "cell_type": "markdown",
   "metadata": {},
   "source": [
    "## Dataset"
   ]
  },
  {
   "cell_type": "code",
   "execution_count": null,
   "metadata": {},
   "outputs": [],
   "source": [
    "test_data = ml2.load('ltl-syn/scpa-2/test')"
   ]
  },
  {
   "cell_type": "code",
   "execution_count": null,
   "metadata": {},
   "outputs": [],
   "source": [
    "tf_data, err_callbacks = pipeline.convert_sl_dataset_to_tf(test_data, return_error_callbacks=True)"
   ]
  },
  {
   "cell_type": "code",
   "execution_count": null,
   "metadata": {},
   "outputs": [],
   "source": [
    "next(tf_data.as_numpy_iterator())"
   ]
  }
 ],
 "metadata": {
  "interpreter": {
   "hash": "02a3c6c9a3f7fd199765eef1a13fc7f40868927109d86265acbef8b3053d7df3"
  },
  "kernelspec": {
   "display_name": "Python 3.8.13 ('ml2')",
   "language": "python",
   "name": "python3"
  },
  "language_info": {
   "codemirror_mode": {
    "name": "ipython",
    "version": 3
   },
   "file_extension": ".py",
   "mimetype": "text/x-python",
   "name": "python",
   "nbconvert_exporter": "python",
   "pygments_lexer": "ipython3",
   "version": "3.9.18"
  },
  "orig_nbformat": 4
 },
 "nbformat": 4,
 "nbformat_minor": 2
}
